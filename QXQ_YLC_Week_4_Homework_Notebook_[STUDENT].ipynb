{
  "nbformat": 4,
  "nbformat_minor": 0,
  "metadata": {
    "colab": {
      "provenance": [],
      "toc_visible": true,
      "include_colab_link": true
    },
    "kernelspec": {
      "name": "python3",
      "display_name": "Python 3"
    },
    "language_info": {
      "name": "python"
    }
  },
  "cells": [
    {
      "cell_type": "markdown",
      "metadata": {
        "id": "view-in-github",
        "colab_type": "text"
      },
      "source": [
        "<a href=\"https://colab.research.google.com/github/mitul3737/Quantum-Computing/blob/main/QXQ_YLC_Week_4_Homework_Notebook_%5BSTUDENT%5D.ipynb\" target=\"_parent\"><img src=\"https://colab.research.google.com/assets/colab-badge.svg\" alt=\"Open In Colab\"/></a>"
      ]
    },
    {
      "cell_type": "markdown",
      "source": [
        "# **Homework 4: Python Review Double Slit Experiment Simulator**\n",
        "---\n",
        "\n",
        "### **Description**\n",
        "In this homework assignment, you will review variables, functions, and objects. Then, you will use these skills to explore a simulator of the double slit experiment.\n",
        "\n",
        "<br>\n",
        "\n",
        "### **Homework Structure**\n",
        "**Part 1**: [Python Review](#p1)\n",
        "\n",
        "**Part 2**: [Using the Double Slit Experiment Simulator](#p2)\n",
        "\n",
        "**Part 3**: [Modifying the Double Slit Experiment Simulator](#p3)\n",
        "\n",
        "<br>\n",
        "\n",
        "### **Learning Objectives**\n",
        "By the end of this assignment, you will:\n",
        "* Recognize how different components of the double slit experiment affect the interference pattern.\n",
        "* Understand how to modify attributes of the `doubleSlit` object to recreate interference patterns.\n",
        "\n",
        "\n",
        "<br>\n",
        "\n",
        "### **Resources**\n",
        "* [Double Slit Simulator Documentation](https://drive.google.com/file/d/1iP6t6RAFF-14IAzj8rwuLU_OzqjA7vMs/view?usp=drive_link)\n",
        "\n",
        "<br>\n",
        "\n",
        "**Before starting, run the code below to import all necessary functions and libraries.**\n"
      ],
      "metadata": {
        "id": "iiOmvqhqx5ea"
      }
    },
    {
      "cell_type": "code",
      "execution_count": null,
      "metadata": {
        "colab": {
          "base_uri": "https://localhost:8080/"
        },
        "id": "CdKMvhHkx4HB",
        "outputId": "03f2ab78-265e-439a-9c7b-666fd455ce8a",
        "cellView": "form"
      },
      "outputs": [
        {
          "output_type": "stream",
          "name": "stdout",
          "text": [
            "Libraries imported successfully!\n"
          ]
        }
      ],
      "source": [
        "# @title\n",
        "import matplotlib.pyplot as plt\n",
        "import numpy as np\n",
        "import scipy\n",
        "\n",
        "class waveFunction():\n",
        "  def __init__(self,d, distance_to_screen,measure_slit):\n",
        "    self.d = d\n",
        "    self.distance_to_screen = distance_to_screen\n",
        "    self.measure_slit= measure_slit\n",
        "    if not self.measure_slit:\n",
        "      self.values = np.linspace(-10,10,num=1000)\n",
        "      self.norm = scipy.integrate.trapezoid(self.evaluate_unnormalized(self.values),self.values)\n",
        "      self.probs = [0]\n",
        "      self.probs.extend([scipy.integrate.trapezoid(self.evaluate(np.linspace(self.values[i],self.values[i+1],num=100)),np.linspace(self.values[i],self.values[i+1],num=100)) for i in range(999)])\n",
        "      self.probs = self.probs/sum(self.probs)\n",
        "    else:\n",
        "      self.values = [-1*self.d/2,self.d/2]\n",
        "      self.norm = 1\n",
        "      self.probs = [0.5,0.5]\n",
        "  def evaluate(self,x):\n",
        "    if not self.measure_slit:\n",
        "      return np.cos(np.pi * self.d* x/self.distance_to_screen)**2/self.norm\n",
        "    else:\n",
        "      if float(x)== float(-1*self.d/2):\n",
        "        return 0.5\n",
        "      elif float(x)== float(self.d/2):\n",
        "        return 0.5\n",
        "      else:\n",
        "        return 0\n",
        "  def measure(self):\n",
        "    temp_value = np.random.choice(self.values, p=self.probs)\n",
        "    if self.measure_slit:\n",
        "      temp_value += np.random.normal(scale = 0.2)\n",
        "    else:\n",
        "      temp_value += np.random.uniform(low=-0.01,high=0.01)\n",
        "    return temp_value\n",
        "  def evaluate_unnormalized(self,x):\n",
        "    return np.cos(np.pi * self.d * x/self.distance_to_screen)**2\n",
        "\n",
        "class doubleSlit():\n",
        "  def __init__(self,slit_dist = 1, distance_to_screen = 10, screen_width = 200, screen_height=100, measure_slit = False):\n",
        "    self.slit_dist = slit_dist\n",
        "    self.distance_to_screen = distance_to_screen\n",
        "    self.detections_x = []\n",
        "    self.detections_y = []\n",
        "    self.screen_width = screen_width\n",
        "    self.screen_height = screen_height\n",
        "    self.measure_slit = measure_slit\n",
        "    self.wavefunction = waveFunction(self.slit_dist, self.distance_to_screen,self.measure_slit)\n",
        "  def fire_electron(self):\n",
        "    if self.slit_dist != self.wavefunction.d:\n",
        "      raise ValueError(\"slit_dist attribute has been modified. Screen must be cleared.\")\n",
        "    elif self.distance_to_screen != self.wavefunction.distance_to_screen:\n",
        "      raise ValueError(\"distance_to_screen attribute has been modified. Screen must be cleared.\")\n",
        "    detected_x = self.distance_to_screen*np.tan(self.wavefunction.measure())\n",
        "    self.detections_x.append(self.wavefunction.measure())\n",
        "    self.detections_y.append(np.random.normal(scale=1.7))\n",
        "  def show_screen(self):\n",
        "    plt.hist2d(self.detections_x,self.detections_y,[self.screen_width,self.screen_height],range=[[-10,10],[-5,5]])\n",
        "    plt.minorticks_on()\n",
        "    plt.show()\n",
        "  def show_hist(self):\n",
        "    plt.hist(self.detections_x,bins=self.screen_width)\n",
        "    plt.xlabel(\"Distance from center\")\n",
        "    plt.ylabel(\"Number of Electrons Detected\")\n",
        "    plt.minorticks_on()\n",
        "    plt.show()\n",
        "  def clear_screen(self):\n",
        "    self.detections_x = []\n",
        "    self.detections_y = []\n",
        "    self.wavefunction = waveFunction(self.slit_dist, self.distance_to_screen,self.measure_slit)\n",
        "  def electron_beam(self, num_electrons = 5000):\n",
        "    if self.slit_dist != self.wavefunction.d:\n",
        "      raise ValueError(\"slit_dist attribute has been modified. Screen must be cleared.\")\n",
        "    elif self.distance_to_screen != self.wavefunction.distance_to_screen:\n",
        "      raise ValueError(\"distance_to_screen attribute has been modified. Screen must be cleared.\")\n",
        "    for i in range(num_electrons):\n",
        "      self.fire_electron()\n",
        "print(\"Libraries imported successfully!\")"
      ]
    },
    {
      "cell_type": "markdown",
      "source": [
        "<a name=\"p1\"></a>\n",
        "\n",
        "---\n",
        "## **Part 1: Python Review**\n",
        "---\n",
        "In this part, you will practice python skills involving variables, functions, and debugging."
      ],
      "metadata": {
        "id": "czBZzyTTy_Kv"
      }
    },
    {
      "cell_type": "markdown",
      "source": [
        "#### **Problem #1.1**\n",
        "Write code that prints \"I love quantum mechanics!\"."
      ],
      "metadata": {
        "id": "a5tp91qhzXI4"
      }
    },
    {
      "cell_type": "code",
      "source": [
        "# COMPLETE THIS CODE"
      ],
      "metadata": {
        "id": "HYYQB5Ply7g1"
      },
      "execution_count": null,
      "outputs": []
    },
    {
      "cell_type": "markdown",
      "source": [
        "#### **Problem #1.2**\n",
        "Assign string values to the variables below. Then, print a sentence using all your variables."
      ],
      "metadata": {
        "id": "7nIvHwAvjsAW"
      }
    },
    {
      "cell_type": "code",
      "source": [
        "animal = # COMPLETE THIS CODE\n",
        "food = # COMPLETE THIS CODE\n",
        "color = # COMPLETE THIS CODE"
      ],
      "metadata": {
        "id": "0f6-6hBekRjr"
      },
      "execution_count": null,
      "outputs": []
    },
    {
      "cell_type": "markdown",
      "source": [
        "#### **Problem #1.3**\n",
        "Give a numerical value to the variable below. Write code that solves for the volume of a cube with an edge length of your variable. Print the volume."
      ],
      "metadata": {
        "id": "wk48Pj3bme3Z"
      }
    },
    {
      "cell_type": "code",
      "source": [
        "edge = # COMPLETE THIS CODE\n",
        "volume = # COMPLETE THIS CODE\n",
        "volume"
      ],
      "metadata": {
        "id": "1NgqJRJHm8ZS"
      },
      "execution_count": null,
      "outputs": []
    },
    {
      "cell_type": "markdown",
      "source": [
        "#### **Problem #1.4**\n",
        "Create variables for floats called `cost_per_apple`, `cost_per_orange`, and `cost_per_banana`, assigning them the values given below:\n",
        "\n",
        "* Apples cost $5 each.\n",
        "\n",
        "* Oranges cost $6 each.\n",
        "\n",
        "* Bananas cost $4.50 each."
      ],
      "metadata": {
        "id": "pKCl45tMAmZH"
      }
    },
    {
      "cell_type": "code",
      "source": [
        "# COMPLETE THIS CODE"
      ],
      "metadata": {
        "id": "3I4zeLvgBdeY"
      },
      "execution_count": null,
      "outputs": []
    },
    {
      "cell_type": "markdown",
      "source": [
        "#### **Problem #1.5**\n",
        "Now, calculate the total cost of purchasing 3 apples, 2 oranges, and 5 bananas and store the result in a variable called `total_cost`. Output this variable's value at the end."
      ],
      "metadata": {
        "id": "nQkhSVSKBsYJ"
      }
    },
    {
      "cell_type": "code",
      "source": [
        "# COMPLETE THIS CODE"
      ],
      "metadata": {
        "id": "KzhGsKQlBsYK"
      },
      "execution_count": null,
      "outputs": []
    },
    {
      "cell_type": "markdown",
      "source": [
        "#### **Problem #1.6**\n",
        "\n",
        "Complete the code below to remove the decimal point from the string variable `str_cost` by replacing it with an empty string, '', using the `.replace(...)` method.\n",
        "\n",
        "<br>\n",
        "\n",
        "**HINT**: You can find the python string documentation here: [https://docs.python.org/3/library/stdtypes.html#str](https://docs.python.org/3/library/stdtypes.html#str)."
      ],
      "metadata": {
        "id": "26eHBDyUCBKY"
      }
    },
    {
      "cell_type": "code",
      "source": [
        "str_cost = str(total_cost)\n",
        "str_cost.replace('.', # COMPLETE THIS CODE"
      ],
      "metadata": {
        "id": "mYztO7lDCBKm"
      },
      "execution_count": null,
      "outputs": []
    },
    {
      "cell_type": "markdown",
      "source": [
        "#### **Problem #1.7**\n",
        "\n",
        "Complete the code below to modify the string `name` so that it is all uppercase letters using the `.upper()` method.\n",
        "\n",
        "<br>\n",
        "\n",
        "**HINT**: You can find the python string documentation here: [https://docs.python.org/3/library/stdtypes.html#str](https://docs.python.org/3/library/stdtypes.html#str)."
      ],
      "metadata": {
        "id": "EvteNYB0EYKt"
      }
    },
    {
      "cell_type": "code",
      "source": [
        "name = \"Adam\"\n",
        "\n",
        "name.# COMPLETE THIS CODE"
      ],
      "metadata": {
        "id": "vMEn3PoXFEKw"
      },
      "execution_count": null,
      "outputs": []
    },
    {
      "cell_type": "markdown",
      "source": [
        "#### **Problem #1.8**\n",
        "\n",
        "Notice that if you output the variable `name` again, it has *not* changed. We can understand why from the documentation for `.upper()`: \"Return a copy of the string with all the cased characters converted to uppercase.\" In other words, the method *returns* or *gives back* a new copy of the string with upper case letters, it *does not* modify the original string!\n",
        "\n",
        "Complete the code below to store the uppercase version of the string in the variable `name`. Be sure to output the variable in the end, to ensure it is now all uppercase.\n",
        "\n",
        "<br>\n",
        "\n",
        "**HINT**: You can find the python string documentation here: [https://docs.python.org/3/library/stdtypes.html#str](https://docs.python.org/3/library/stdtypes.html#str)."
      ],
      "metadata": {
        "id": "I2x6thGqFcv6"
      }
    },
    {
      "cell_type": "code",
      "source": [
        "# Output to see that the variable hasn't changed.\n",
        "\n",
        "name"
      ],
      "metadata": {
        "id": "NUBIKgaoF-4X"
      },
      "execution_count": null,
      "outputs": []
    },
    {
      "cell_type": "code",
      "source": [
        "# COMPLETE THIS CODE"
      ],
      "metadata": {
        "id": "alpQQtKwFcwF"
      },
      "execution_count": null,
      "outputs": []
    },
    {
      "cell_type": "markdown",
      "source": [
        "#### **Problem #1.9**\n",
        "\n",
        "Now, complete the code below so that the variable stores the value `ORIGAMI` instead of `orange` using *only* `.replace(..., ...)` and `.upper()`. There are many ways to accomplish this, most of which will require you to use `.replace(...,...)` several times.\n",
        "\n",
        "<br>\n",
        "\n",
        "**HINT**: You can find the python string documentation here: [https://docs.python.org/3/library/stdtypes.html#str](https://docs.python.org/3/library/stdtypes.html#str)."
      ],
      "metadata": {
        "id": "zPMTc4wsGe9z"
      }
    },
    {
      "cell_type": "code",
      "source": [
        "word = 'orange'\n",
        "\n",
        "# COMPLETE THIS CODE"
      ],
      "metadata": {
        "id": "wvyZRPDiGe9_"
      },
      "execution_count": null,
      "outputs": []
    },
    {
      "cell_type": "markdown",
      "source": [
        "#### **Problem #1.10**\n",
        "Debug the code shown below."
      ],
      "metadata": {
        "id": "nle5thb51rt7"
      }
    },
    {
      "cell_type": "code",
      "source": [
        "max(\"1\", \"2\", \"17\", \"3\""
      ],
      "metadata": {
        "colab": {
          "base_uri": "https://localhost:8080/",
          "height": 141
        },
        "id": "PSxITLfV1lz7",
        "outputId": "39a092e7-3807-4666-a0c7-7c4e0ddc9fd9"
      },
      "execution_count": null,
      "outputs": [
        {
          "output_type": "error",
          "ename": "SyntaxError",
          "evalue": "ignored",
          "traceback": [
            "\u001b[0;36m  File \u001b[0;32m\"<ipython-input-11-1c8e8619fb83>\"\u001b[0;36m, line \u001b[0;32m1\u001b[0m\n\u001b[0;31m    max(\"1\", \"2\", \"17\", \"3\"\u001b[0m\n\u001b[0m                           ^\u001b[0m\n\u001b[0;31mSyntaxError\u001b[0m\u001b[0;31m:\u001b[0m incomplete input\n"
          ]
        }
      ]
    },
    {
      "cell_type": "markdown",
      "source": [
        "#### **Problem #1.11 [ADVANCED]**\n",
        "Create three variables with different numerical values. Then use the `min` function to find which of your variables has the lowest value."
      ],
      "metadata": {
        "id": "wrPfFAEZ0mxt"
      }
    },
    {
      "cell_type": "code",
      "source": [
        "# COMPLETE THIS CODE"
      ],
      "metadata": {
        "id": "Ta2mZrj-0ktp"
      },
      "execution_count": null,
      "outputs": []
    },
    {
      "cell_type": "markdown",
      "source": [
        "#### **Problem #1.12 [ADVANCED]**\n",
        "Use the `input` function to input which week of the course you are in. Then use the `print` function to print `\"I am in week [week] of the course!\"`."
      ],
      "metadata": {
        "id": "T77D1zEsz4r3"
      }
    },
    {
      "cell_type": "code",
      "source": [
        "week = # COMPLETE THIS CODE"
      ],
      "metadata": {
        "id": "qGYUdvcl0RjX"
      },
      "execution_count": null,
      "outputs": []
    },
    {
      "cell_type": "markdown",
      "source": [
        "#### **Problem #1.13 [ADVANCED]**\n",
        "Use the `min` function to find which of these variables comes first alphabetically."
      ],
      "metadata": {
        "id": "rn5B-JQsjxwT"
      }
    },
    {
      "cell_type": "code",
      "source": [
        "animal = \"lion\"\n",
        "food = \"apple\"\n",
        "color = \"yellow\"\n",
        "\n",
        "# COMPLETE THIS CODE"
      ],
      "metadata": {
        "id": "wSZ_bw9Nl3Sf"
      },
      "execution_count": null,
      "outputs": []
    },
    {
      "cell_type": "markdown",
      "source": [
        "#### **Problem #1.14 [ADVANCED]**\n",
        "Use the `max` function to find which of these variables comes last alphabetically."
      ],
      "metadata": {
        "id": "XNJEjbPnmEJc"
      }
    },
    {
      "cell_type": "code",
      "source": [
        "# COMPLETE THIS CODE"
      ],
      "metadata": {
        "id": "JYwAwAuMmI_K"
      },
      "execution_count": null,
      "outputs": []
    },
    {
      "cell_type": "markdown",
      "source": [
        "<a name=\"p2\"></a>\n",
        "\n",
        "---\n",
        "## **Part 2: Using the Double Slit Experiment Simulator**\n",
        "---\n",
        "In this part, you will learn how to use the double slit experiment simulator."
      ],
      "metadata": {
        "id": "M8rTulOS2s8K"
      }
    },
    {
      "cell_type": "markdown",
      "source": [
        "#### **Problem #2.1**\n",
        "Create a `doubleSlit` object using its associated function. Then, use the appropriate method of the `doubleSlit` object to display the screen.\n"
      ],
      "metadata": {
        "id": "oqX4Htjn_g0C"
      }
    },
    {
      "cell_type": "code",
      "source": [
        "# COMPLETE THIS CODE"
      ],
      "metadata": {
        "id": "dHJ8qtB92bpd"
      },
      "execution_count": null,
      "outputs": []
    },
    {
      "cell_type": "markdown",
      "source": [
        "#### **Problem #2.2**\n",
        "Use the appropriate method of the `doubleSlit` object to fire two individual electrons at the screen. Then, display the screen again."
      ],
      "metadata": {
        "id": "BiBGkZfs_8a9"
      }
    },
    {
      "cell_type": "code",
      "source": [
        "# COMPLETE THIS CODE"
      ],
      "metadata": {
        "id": "l0Ct-O52_6l3"
      },
      "execution_count": null,
      "outputs": []
    },
    {
      "cell_type": "markdown",
      "source": [
        "#### **Problem #2.3**\n",
        "Now, use the appropriate method to fire 12,000 electrons at the screen. Then display the screen."
      ],
      "metadata": {
        "id": "_ZKQ4IB5Aq5N"
      }
    },
    {
      "cell_type": "code",
      "source": [
        "# COMPLETE THIS CODE"
      ],
      "metadata": {
        "id": "9BlSLMsxA3Y6"
      },
      "execution_count": null,
      "outputs": []
    },
    {
      "cell_type": "markdown",
      "source": [
        "#### **Problem #2.4**\n",
        "Create a  `doubleSlit` object in which you measure which slit the electron passes through. Then fire 12,000 electrons and display the screen."
      ],
      "metadata": {
        "id": "jvT6VZElBIAa"
      }
    },
    {
      "cell_type": "code",
      "source": [
        "# COMPLETE THIS CODE"
      ],
      "metadata": {
        "id": "oZee3D01A_ki"
      },
      "execution_count": null,
      "outputs": []
    },
    {
      "cell_type": "markdown",
      "source": [
        "<a name=\"p3\"></a>\n",
        "\n",
        "---\n",
        "## **Part 3: Modifying the Double Slit Experiment Simulator**\n",
        "---\n",
        "In this part, you will see how certain modifications to the `doubleSlit` object affect the interference pattern shown on the screen."
      ],
      "metadata": {
        "id": "PhgL_w0KBqwh"
      }
    },
    {
      "cell_type": "markdown",
      "source": [
        "#### **Problem #3.1**\n",
        "Create a `doubleSlit` object with a `slit_dist` of 10 and a `distance_to_screen` of 15. Fire 10,000 electrons. Then show the screen.\n",
        "\n",
        "**NOTE** make sure to clear the screen!"
      ],
      "metadata": {
        "id": "rWvevbC1BsnC"
      }
    },
    {
      "cell_type": "code",
      "source": [
        "# COMPLETE THIS CODE"
      ],
      "metadata": {
        "id": "X6qp64UWBiDo"
      },
      "execution_count": null,
      "outputs": []
    },
    {
      "cell_type": "markdown",
      "source": [
        "#### **Problem #3.2**\n",
        "Create three `doubleSlit` objects, one with a `slit_dist` of 5, one with a `slit_dist` of 25, and one with a `slit_dist` of 50. For each of them, fire 10,000 electrons, and show their screen. What do you notice as slit distance increases?"
      ],
      "metadata": {
        "id": "CBSSOy9_DFiA"
      }
    },
    {
      "cell_type": "code",
      "source": [
        "# COMPLETE THIS CODE"
      ],
      "metadata": {
        "id": "1gqngr34GPu7"
      },
      "execution_count": null,
      "outputs": []
    },
    {
      "cell_type": "markdown",
      "source": [
        "#### **Problem #3.3**\n",
        "Create three `doubleSlit` objects, one with a `slit_dist` of 5, one with a `slit_dist' of 10, and one with a `slit_dist` of 20. For each of them, measure which slit the electrons pass through, fire 10,000 electrons, and show their screen."
      ],
      "metadata": {
        "id": "3N8rwbBGGZur"
      }
    },
    {
      "cell_type": "code",
      "source": [
        "# COMPLETE THIS CODE"
      ],
      "metadata": {
        "id": "VR81ZcmeDOuj"
      },
      "execution_count": null,
      "outputs": []
    },
    {
      "cell_type": "markdown",
      "source": [
        "#### **Problem #3.4**\n",
        "The plot shown below was generated with a `distance_to_screen` of 20. What `slit_dist` was used? Print your answer.\n",
        "\n",
        "![Interference Pattern.png](data:image/png;base64,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)"
      ],
      "metadata": {
        "id": "YwXfO9o-einl"
      }
    },
    {
      "cell_type": "code",
      "source": [
        "# COMPLETE THIS CODE"
      ],
      "metadata": {
        "id": "uB5nZVCtfoWe"
      },
      "execution_count": null,
      "outputs": []
    },
    {
      "cell_type": "code",
      "source": [
        "# COMPLETE THIS CODE"
      ],
      "metadata": {
        "id": "Dcze2Pl4gRaL"
      },
      "execution_count": null,
      "outputs": []
    },
    {
      "cell_type": "markdown",
      "source": [
        "#### **Problem #3.5**\n",
        "The plot shown below was generated with a `slit_dist` of 4. What `distance_to_screen` was used? Print your answer.\n",
        "\n",
        "![Interference Pattern 2.png](data:image/png;base64,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)"
      ],
      "metadata": {
        "id": "k9rF3YY2uTzt"
      }
    },
    {
      "cell_type": "code",
      "source": [
        "my_experiment = doubleSlit()\n",
        "my_experiment.slit_dist = 4\n",
        "my_experiment.distance_to_screen = # COMPLETE THIS CODE\n",
        "my_experiment.clear_screen()\n",
        "my_experiment.electron_beam(num_electrons=10000)\n",
        "my_experiment.show_screen()"
      ],
      "metadata": {
        "id": "Gg1EPyZ-gYvv"
      },
      "execution_count": null,
      "outputs": []
    },
    {
      "cell_type": "markdown",
      "source": [
        "#End of notebook\n",
        "---\n",
        "© 2023 The Coding School, All rights reserved"
      ],
      "metadata": {
        "id": "tzdwFrs8u8Wt"
      }
    }
  ]
}