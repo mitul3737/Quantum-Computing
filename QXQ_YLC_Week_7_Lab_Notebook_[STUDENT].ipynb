{
  "nbformat": 4,
  "nbformat_minor": 0,
  "metadata": {
    "colab": {
      "provenance": [],
      "include_colab_link": true
    },
    "kernelspec": {
      "name": "python3",
      "display_name": "Python 3"
    },
    "language_info": {
      "name": "python"
    }
  },
  "cells": [
    {
      "cell_type": "markdown",
      "metadata": {
        "id": "view-in-github",
        "colab_type": "text"
      },
      "source": [
        "<a href=\"https://colab.research.google.com/github/mitul3737/Quantum-Computing/blob/main/QXQ_YLC_Week_7_Lab_Notebook_%5BSTUDENT%5D.ipynb\" target=\"_parent\"><img src=\"https://colab.research.google.com/assets/colab-badge.svg\" alt=\"Open In Colab\"/></a>"
      ]
    },
    {
      "cell_type": "markdown",
      "source": [
        "# **Lab 7: Quantum Gates**\n",
        "---\n",
        "\n",
        "### **Description**\n",
        "In today's lab, you will learn how to apply quantum gates to a quantum circuit using cirq. We will start with reviewing lists, defining qubits and quantum circuits in cirq. Then we will dive into using single and multiple quantum gates. Primarily, we will be working with the X, H and Z gates for this lab.\n",
        "\n",
        "<br>\n",
        "\n",
        "### **Lab Structure**\n",
        "**Part 1**: [Review](#p1)\n",
        "\n",
        "**Part 2**: [Quantum Circuits in Cirq](#p2)\n",
        "\n",
        "**Part 3**: [Multiple Gates](#p3)\n",
        "\n",
        "**Part 4**: [Additional Practice [OPTIONAL]](#p4)\n",
        "\n",
        "<br>\n",
        "\n",
        "\n",
        "### **Learning Objectives**\n",
        "By the end of this lab, we will:\n",
        "1. Understand how to represent qubits and their states in Cirq.\n",
        "2. Recognize how to apply quantum gates in Cirq.\n",
        "3. Recognize how to create superposition in Cirq.\n",
        "\n",
        "<br>\n",
        "\n",
        "###**Resources**\n",
        "* [Python Basics Cheat Sheet]\n",
        "<br>\n",
        "\n",
        "\n",
        "**Before starting, run the code below to import all necessary functions and libraries.**\n"
      ],
      "metadata": {
        "id": "eq-fObX9EBQg"
      }
    },
    {
      "cell_type": "code",
      "source": [
        "!pip install cirq --quiet\n",
        "import cirq\n",
        "import cirq_web\n",
        "print(\"Libraries imported successfully!\")"
      ],
      "metadata": {
        "id": "gpEm1wV8oHt4",
        "colab": {
          "base_uri": "https://localhost:8080/"
        },
        "outputId": "4c95f3ec-ccfe-4ca4-ffde-a3007879ba39"
      },
      "execution_count": null,
      "outputs": [
        {
          "output_type": "stream",
          "name": "stdout",
          "text": [
            "\u001b[2K     \u001b[90m━━━━━━━━━━━━━━━━━━━━━━━━━━━━━━━━━━━━━━━━\u001b[0m \u001b[32m1.8/1.8 MB\u001b[0m \u001b[31m7.1 MB/s\u001b[0m eta \u001b[36m0:00:00\u001b[0m\n",
            "\u001b[2K     \u001b[90m━━━━━━━━━━━━━━━━━━━━━━━━━━━━━━━━━━━━━━━━\u001b[0m \u001b[32m142.7/142.7 kB\u001b[0m \u001b[31m10.4 MB/s\u001b[0m eta \u001b[36m0:00:00\u001b[0m\n",
            "\u001b[2K     \u001b[90m━━━━━━━━━━━━━━━━━━━━━━━━━━━━━━━━━━━━━━━━\u001b[0m \u001b[32m579.1/579.1 kB\u001b[0m \u001b[31m12.0 MB/s\u001b[0m eta \u001b[36m0:00:00\u001b[0m\n",
            "\u001b[2K     \u001b[90m━━━━━━━━━━━━━━━━━━━━━━━━━━━━━━━━━━━━━━━━\u001b[0m \u001b[32m58.2/58.2 kB\u001b[0m \u001b[31m6.4 MB/s\u001b[0m eta \u001b[36m0:00:00\u001b[0m\n",
            "\u001b[2K     \u001b[90m━━━━━━━━━━━━━━━━━━━━━━━━━━━━━━━━━━━━━━━━\u001b[0m \u001b[32m66.5/66.5 kB\u001b[0m \u001b[31m8.9 MB/s\u001b[0m eta \u001b[36m0:00:00\u001b[0m\n",
            "\u001b[2K     \u001b[90m━━━━━━━━━━━━━━━━━━━━━━━━━━━━━━━━━━━━━━━━\u001b[0m \u001b[32m596.4/596.4 kB\u001b[0m \u001b[31m13.8 MB/s\u001b[0m eta \u001b[36m0:00:00\u001b[0m\n",
            "\u001b[2K     \u001b[90m━━━━━━━━━━━━━━━━━━━━━━━━━━━━━━━━━━━━━━━━\u001b[0m \u001b[32m221.0/221.0 kB\u001b[0m \u001b[31m14.4 MB/s\u001b[0m eta \u001b[36m0:00:00\u001b[0m\n",
            "\u001b[2K     \u001b[90m━━━━━━━━━━━━━━━━━━━━━━━━━━━━━━━━━━━━━━━━\u001b[0m \u001b[32m229.9/229.9 kB\u001b[0m \u001b[31m15.7 MB/s\u001b[0m eta \u001b[36m0:00:00\u001b[0m\n",
            "\u001b[?25h  Preparing metadata (setup.py) ... \u001b[?25l\u001b[?25hdone\n",
            "\u001b[2K     \u001b[90m━━━━━━━━━━━━━━━━━━━━━━━━━━━━━━━━━━━━━━━━\u001b[0m \u001b[32m2.0/2.0 MB\u001b[0m \u001b[31m21.3 MB/s\u001b[0m eta \u001b[36m0:00:00\u001b[0m\n",
            "\u001b[2K     \u001b[90m━━━━━━━━━━━━━━━━━━━━━━━━━━━━━━━━━━━━━━━━\u001b[0m \u001b[32m151.7/151.7 kB\u001b[0m \u001b[31m17.2 MB/s\u001b[0m eta \u001b[36m0:00:00\u001b[0m\n",
            "\u001b[2K     \u001b[90m━━━━━━━━━━━━━━━━━━━━━━━━━━━━━━━━━━━━━━━━\u001b[0m \u001b[32m45.6/45.6 kB\u001b[0m \u001b[31m5.1 MB/s\u001b[0m eta \u001b[36m0:00:00\u001b[0m\n",
            "\u001b[?25h  Preparing metadata (setup.py) ... \u001b[?25l\u001b[?25hdone\n",
            "\u001b[2K     \u001b[90m━━━━━━━━━━━━━━━━━━━━━━━━━━━━━━━━━━━━━━━━\u001b[0m \u001b[32m1.6/1.6 MB\u001b[0m \u001b[31m24.9 MB/s\u001b[0m eta \u001b[36m0:00:00\u001b[0m\n",
            "\u001b[2K     \u001b[90m━━━━━━━━━━━━━━━━━━━━━━━━━━━━━━━━━━━━━━━━\u001b[0m \u001b[32m151.7/151.7 kB\u001b[0m \u001b[31m14.5 MB/s\u001b[0m eta \u001b[36m0:00:00\u001b[0m\n",
            "\u001b[2K     \u001b[90m━━━━━━━━━━━━━━━━━━━━━━━━━━━━━━━━━━━━━━━━\u001b[0m \u001b[32m151.7/151.7 kB\u001b[0m \u001b[31m16.8 MB/s\u001b[0m eta \u001b[36m0:00:00\u001b[0m\n",
            "\u001b[2K     \u001b[90m━━━━━━━━━━━━━━━━━━━━━━━━━━━━━━━━━━━━━━━━\u001b[0m \u001b[32m147.4/147.4 kB\u001b[0m \u001b[31m14.9 MB/s\u001b[0m eta \u001b[36m0:00:00\u001b[0m\n",
            "\u001b[2K     \u001b[90m━━━━━━━━━━━━━━━━━━━━━━━━━━━━━━━━━━━━━━━━\u001b[0m \u001b[32m147.4/147.4 kB\u001b[0m \u001b[31m12.6 MB/s\u001b[0m eta \u001b[36m0:00:00\u001b[0m\n",
            "\u001b[2K     \u001b[90m━━━━━━━━━━━━━━━━━━━━━━━━━━━━━━━━━━━━━━━━\u001b[0m \u001b[32m147.4/147.4 kB\u001b[0m \u001b[31m14.8 MB/s\u001b[0m eta \u001b[36m0:00:00\u001b[0m\n",
            "\u001b[2K     \u001b[90m━━━━━━━━━━━━━━━━━━━━━━━━━━━━━━━━━━━━━━━━\u001b[0m \u001b[32m142.7/142.7 kB\u001b[0m \u001b[31m12.3 MB/s\u001b[0m eta \u001b[36m0:00:00\u001b[0m\n",
            "\u001b[2K     \u001b[90m━━━━━━━━━━━━━━━━━━━━━━━━━━━━━━━━━━━━━━━━\u001b[0m \u001b[32m142.7/142.7 kB\u001b[0m \u001b[31m15.8 MB/s\u001b[0m eta \u001b[36m0:00:00\u001b[0m\n",
            "\u001b[2K     \u001b[90m━━━━━━━━━━━━━━━━━━━━━━━━━━━━━━━━━━━━━━━━\u001b[0m \u001b[32m101.2/101.2 kB\u001b[0m \u001b[31m11.4 MB/s\u001b[0m eta \u001b[36m0:00:00\u001b[0m\n",
            "\u001b[2K     \u001b[90m━━━━━━━━━━━━━━━━━━━━━━━━━━━━━━━━━━━━━━━━\u001b[0m \u001b[32m83.6/83.6 kB\u001b[0m \u001b[31m9.4 MB/s\u001b[0m eta \u001b[36m0:00:00\u001b[0m\n",
            "\u001b[2K     \u001b[90m━━━━━━━━━━━━━━━━━━━━━━━━━━━━━━━━━━━━━━━━\u001b[0m \u001b[32m83.3/83.3 kB\u001b[0m \u001b[31m9.0 MB/s\u001b[0m eta \u001b[36m0:00:00\u001b[0m\n",
            "\u001b[2K     \u001b[90m━━━━━━━━━━━━━━━━━━━━━━━━━━━━━━━━━━━━━━━━\u001b[0m \u001b[32m83.4/83.4 kB\u001b[0m \u001b[31m9.2 MB/s\u001b[0m eta \u001b[36m0:00:00\u001b[0m\n",
            "\u001b[2K     \u001b[90m━━━━━━━━━━━━━━━━━━━━━━━━━━━━━━━━━━━━━━━━\u001b[0m \u001b[32m83.2/83.2 kB\u001b[0m \u001b[31m8.3 MB/s\u001b[0m eta \u001b[36m0:00:00\u001b[0m\n",
            "\u001b[2K     \u001b[90m━━━━━━━━━━━━━━━━━━━━━━━━━━━━━━━━━━━━━━━━\u001b[0m \u001b[32m82.5/82.5 kB\u001b[0m \u001b[31m9.2 MB/s\u001b[0m eta \u001b[36m0:00:00\u001b[0m\n",
            "\u001b[2K     \u001b[90m━━━━━━━━━━━━━━━━━━━━━━━━━━━━━━━━━━━━━━━━\u001b[0m \u001b[32m81.0/81.0 kB\u001b[0m \u001b[31m8.6 MB/s\u001b[0m eta \u001b[36m0:00:00\u001b[0m\n",
            "\u001b[2K     \u001b[90m━━━━━━━━━━━━━━━━━━━━━━━━━━━━━━━━━━━━━━━━\u001b[0m \u001b[32m81.0/81.0 kB\u001b[0m \u001b[31m9.1 MB/s\u001b[0m eta \u001b[36m0:00:00\u001b[0m\n",
            "\u001b[2K     \u001b[90m━━━━━━━━━━━━━━━━━━━━━━━━━━━━━━━━━━━━━━━━\u001b[0m \u001b[32m80.8/80.8 kB\u001b[0m \u001b[31m8.9 MB/s\u001b[0m eta \u001b[36m0:00:00\u001b[0m\n",
            "\u001b[2K     \u001b[90m━━━━━━━━━━━━━━━━━━━━━━━━━━━━━━━━━━━━━━━━\u001b[0m \u001b[32m80.7/80.7 kB\u001b[0m \u001b[31m8.4 MB/s\u001b[0m eta \u001b[36m0:00:00\u001b[0m\n",
            "\u001b[2K     \u001b[90m━━━━━━━━━━━━━━━━━━━━━━━━━━━━━━━━━━━━━━━━\u001b[0m \u001b[32m81.5/81.5 kB\u001b[0m \u001b[31m9.8 MB/s\u001b[0m eta \u001b[36m0:00:00\u001b[0m\n",
            "\u001b[2K     \u001b[90m━━━━━━━━━━━━━━━━━━━━━━━━━━━━━━━━━━━━━━━━\u001b[0m \u001b[32m90.4/90.4 kB\u001b[0m \u001b[31m9.5 MB/s\u001b[0m eta \u001b[36m0:00:00\u001b[0m\n",
            "\u001b[2K     \u001b[90m━━━━━━━━━━━━━━━━━━━━━━━━━━━━━━━━━━━━━━━━\u001b[0m \u001b[32m117.7/117.7 kB\u001b[0m \u001b[31m14.8 MB/s\u001b[0m eta \u001b[36m0:00:00\u001b[0m\n",
            "\u001b[2K     \u001b[90m━━━━━━━━━━━━━━━━━━━━━━━━━━━━━━━━━━━━━━━━\u001b[0m \u001b[32m60.6/60.6 kB\u001b[0m \u001b[31m6.4 MB/s\u001b[0m eta \u001b[36m0:00:00\u001b[0m\n",
            "\u001b[2K     \u001b[90m━━━━━━━━━━━━━━━━━━━━━━━━━━━━━━━━━━━━━━━━\u001b[0m \u001b[32m71.5/71.5 kB\u001b[0m \u001b[31m8.4 MB/s\u001b[0m eta \u001b[36m0:00:00\u001b[0m\n",
            "\u001b[2K     \u001b[90m━━━━━━━━━━━━━━━━━━━━━━━━━━━━━━━━━━━━━━━━\u001b[0m \u001b[32m98.7/98.7 kB\u001b[0m \u001b[31m10.5 MB/s\u001b[0m eta \u001b[36m0:00:00\u001b[0m\n",
            "\u001b[2K     \u001b[90m━━━━━━━━━━━━━━━━━━━━━━━━━━━━━━━━━━━━━━━━\u001b[0m \u001b[32m1.7/1.7 MB\u001b[0m \u001b[31m28.8 MB/s\u001b[0m eta \u001b[36m0:00:00\u001b[0m\n",
            "\u001b[2K     \u001b[90m━━━━━━━━━━━━━━━━━━━━━━━━━━━━━━━━━━━━━━━━\u001b[0m \u001b[32m114.7/114.7 kB\u001b[0m \u001b[31m12.2 MB/s\u001b[0m eta \u001b[36m0:00:00\u001b[0m\n",
            "\u001b[2K     \u001b[90m━━━━━━━━━━━━━━━━━━━━━━━━━━━━━━━━━━━━━━━━\u001b[0m \u001b[32m69.6/69.6 kB\u001b[0m \u001b[31m7.7 MB/s\u001b[0m eta \u001b[36m0:00:00\u001b[0m\n",
            "\u001b[2K     \u001b[90m━━━━━━━━━━━━━━━━━━━━━━━━━━━━━━━━━━━━━━━━\u001b[0m \u001b[32m526.7/526.7 kB\u001b[0m \u001b[31m29.7 MB/s\u001b[0m eta \u001b[36m0:00:00\u001b[0m\n",
            "\u001b[2K     \u001b[90m━━━━━━━━━━━━━━━━━━━━━━━━━━━━━━━━━━━━━━━━\u001b[0m \u001b[32m58.3/58.3 kB\u001b[0m \u001b[31m6.4 MB/s\u001b[0m eta \u001b[36m0:00:00\u001b[0m\n",
            "\u001b[?25h  Building wheel for lark (setup.py) ... \u001b[?25l\u001b[?25hdone\n",
            "  Building wheel for rpcq (setup.py) ... \u001b[?25l\u001b[?25hdone\n",
            "\u001b[31mERROR: pip's dependency resolver does not currently take into account all the packages that are installed. This behaviour is the source of the following dependency conflicts.\n",
            "lida 0.0.10 requires fastapi, which is not installed.\n",
            "lida 0.0.10 requires kaleido, which is not installed.\n",
            "lida 0.0.10 requires python-multipart, which is not installed.\n",
            "lida 0.0.10 requires uvicorn, which is not installed.\n",
            "referencing 0.30.2 requires attrs>=22.2.0, but you have attrs 21.4.0 which is incompatible.\u001b[0m\u001b[31m\n",
            "\u001b[0mLibraries imported successfully!\n"
          ]
        }
      ]
    },
    {
      "cell_type": "markdown",
      "source": [
        "<a name=\"p1\"></a>\n",
        "\n",
        "---\n",
        "## **Part 1: Review**\n",
        "---"
      ],
      "metadata": {
        "id": "eLTa5clvET-E"
      }
    },
    {
      "cell_type": "markdown",
      "source": [
        "### **Problem #1.1**\n",
        "**Together**, create a list with the entries 3, 1, 4. Print the first item in the list."
      ],
      "metadata": {
        "id": "VTPE925KFyX_"
      }
    },
    {
      "cell_type": "code",
      "source": [
        "my_list = # COMPLETE THIS CODE"
      ],
      "metadata": {
        "id": "EhSlWEHXp-qu"
      },
      "execution_count": null,
      "outputs": []
    },
    {
      "cell_type": "markdown",
      "source": [
        "### **Problem #1.2**\n",
        "\n",
        "**Independently**, add the integers 5, 6, and 7 to ``my_list``. Print out ``my_list``."
      ],
      "metadata": {
        "id": "xzj7-kFaD2oO"
      }
    },
    {
      "cell_type": "code",
      "source": [
        "my_list = [1,2,3,4]\n",
        "my_list. # COMPLETE THIS CODE"
      ],
      "metadata": {
        "id": "i9onONZbENSv"
      },
      "execution_count": null,
      "outputs": []
    },
    {
      "cell_type": "markdown",
      "source": [
        "### **Problem #1.3**\n",
        "\n",
        "**Independently**, print out the last two items in ``my_list``."
      ],
      "metadata": {
        "id": "EPSRoBHfGiT4"
      }
    },
    {
      "cell_type": "code",
      "source": [
        "my_list = [1,2,3,4]\n",
        "# COMPLETE THIS CODE"
      ],
      "metadata": {
        "id": "WEK24LPcG3YQ"
      },
      "execution_count": null,
      "outputs": []
    },
    {
      "cell_type": "markdown",
      "source": [
        "### **Problem #1.4**\n",
        "\n",
        "**Together**, Create and define a qubit using cirq and store it in a variable ``qubit``."
      ],
      "metadata": {
        "id": "LAfw8JHwmWGy"
      }
    },
    {
      "cell_type": "code",
      "source": [
        "qubit = cirq.NamedQubit( # COMPLETE THIS CODE"
      ],
      "metadata": {
        "id": "MWypKbHPIHKV"
      },
      "execution_count": null,
      "outputs": []
    },
    {
      "cell_type": "markdown",
      "source": [
        "### **Problem #1.5**\n",
        "\n",
        "**Independently,**\n",
        "1. Define a variable ``my_qubit`` as a qubit with a label ``\"q0\"``.\n",
        "2. Print out ``my_qubit``."
      ],
      "metadata": {
        "id": "yiutSPq9oEj4"
      }
    },
    {
      "cell_type": "markdown",
      "source": [
        "---\n",
        "\n",
        "<center>\n",
        "\n",
        "### **Wait for Your Instructor to Continue**\n",
        "\n",
        "---"
      ],
      "metadata": {
        "id": "zZDYhuvET-QQ"
      }
    },
    {
      "cell_type": "markdown",
      "source": [
        "<a name=\"p2\"></a>\n",
        "\n",
        "---\n",
        "## **Part 2: Quantum Circuits in Cirq**\n",
        "---"
      ],
      "metadata": {
        "id": "qQhufAKtE0NT"
      }
    },
    {
      "cell_type": "markdown",
      "source": [
        "### **Problem #2.1**\n",
        "\n",
        "**Together:**\n",
        "1. Create a qubit with label ``\"q0\"``.\n",
        "2. Create an empty quantum circuit.\n",
        "3. Append the qubit you created to the empty quantum circuit with an **X gate** applied to it.\n",
        "4. Then print out the circuit.\n",
        "5. Print out the final state vector, dirac notation and bloch sphere representations of the qubit in the circuit."
      ],
      "metadata": {
        "id": "0GIFhqummZcf"
      }
    },
    {
      "cell_type": "code",
      "source": [
        "qubit = # COMPLETE THIS CODE\n",
        "qc = cirq.Circuit( # COMPLETE THIS CODE\n",
        "qc. # COMPLETE THIS CODE\n",
        "print( # COMPLETE THIS CODE"
      ],
      "metadata": {
        "id": "iFwmYTaui4YY"
      },
      "execution_count": null,
      "outputs": []
    },
    {
      "cell_type": "code",
      "source": [
        "state_vector = cirq.final_state_vector( # COMPLETE THIS CODE\n",
        "ket = cirq.dirac_notation( state_vector= # COMPLETE THIS CODE\n",
        "print( # COMPLETE THIS CODE\n",
        "\n",
        "cirq_web.bloch_sphere.BlochSphere( state_vector= # COMPLETE THIS CODE"
      ],
      "metadata": {
        "id": "UD-SoY-joWLP"
      },
      "execution_count": null,
      "outputs": []
    },
    {
      "cell_type": "markdown",
      "source": [
        "### **Problem #2.2**\n",
        "\n",
        "**Independently**\n",
        "1. Create a qubit with label ``\"q0\"``.\n",
        "2. Create an empty quantum circuit.\n",
        "3. Append the qubit you created to the empty quantum circuit with an **H gate** applied to it.\n",
        "4. Then print out the circuit.\n",
        "5. Print out the state vector, dirac notation, and bloch sphere of the qubit in the quantum circuit.\n",
        "\n",
        "**Hint:** To apply a hadarmard gate the syntax is the same as in the problem #2.1 with the exception of using **H** instead of **X**."
      ],
      "metadata": {
        "id": "5rTf-Oonol5-"
      }
    },
    {
      "cell_type": "code",
      "source": [
        "qubit = # COMPLETE THIS CODE\n",
        "my_quantum_circuit_H = cirq.Circuit( # COMPLETE THIS CODE"
      ],
      "metadata": {
        "id": "VMq5C5iji8dx"
      },
      "execution_count": null,
      "outputs": []
    },
    {
      "cell_type": "code",
      "source": [
        "state_vector = cirq.final_state_vector( # COMPLETE THIS CODE\n",
        "ket = cirq.dirac_notation( state_vector= # COMPLETE THIS CODE\n",
        "print( # COMPLETE THIS CODE\n",
        "\n",
        "cirq_web.bloch_sphere.BlochSphere( state_vector= # COMPLETE THIS CODE"
      ],
      "metadata": {
        "id": "5xrYX5OQowa8"
      },
      "execution_count": null,
      "outputs": []
    },
    {
      "cell_type": "markdown",
      "source": [
        "### **Problem #2.3**\n",
        "\n",
        "**Independently**\n",
        "1. Define a variable ``my_quantum_circuit_Z`` as a cirq circuit ``object`` containing qubit ``a`` defined in the last problem, and apply an **Z gate** to it.\n",
        "2. Print out ``my_quantum_circuit_Z``.\n",
        "3. Print out the state vector, dirac notation, and bloch sphere of the qubit in the quantum circuit.\n",
        "\n",
        "**Hint:** To apply a Hadamard gate the syntax is the same as in the problem 2.2 with the exception of using **Z** instead of **X**."
      ],
      "metadata": {
        "id": "YXLIxX2uq4-A"
      }
    },
    {
      "cell_type": "code",
      "source": [
        "# COMPLETE THIS CODE"
      ],
      "metadata": {
        "id": "8ytN-Lq7jCQH"
      },
      "execution_count": null,
      "outputs": []
    },
    {
      "cell_type": "markdown",
      "source": [
        "---\n",
        "\n",
        "<center>\n",
        "\n",
        "### **Wait for Your Instructor to Continue**\n",
        "\n",
        "---"
      ],
      "metadata": {
        "id": "eFZnLderW2ZT"
      }
    },
    {
      "cell_type": "markdown",
      "source": [
        "### **Problem #2.4 [OPTIONAL]**\n",
        "\n",
        "**Independently,**\n",
        "1. Create a qubit with label ``\"q0\"``.\n",
        "2. Create an empty quantum circuit.\n",
        "3. Append the qubit you created to the empty quantum circuit with a gate that will put your qubit in the 1 state.\n",
        "4. Then print out the circuit.\n",
        "5. Print out the final state vector, dirac notation and bloch sphere representations of the qubit in the circuit."
      ],
      "metadata": {
        "id": "5Lm_FGHAWZQt"
      }
    },
    {
      "cell_type": "code",
      "source": [
        "qubit = # COMPLETE THIS CODE"
      ],
      "metadata": {
        "id": "vz_A_l5fXuKS"
      },
      "execution_count": null,
      "outputs": []
    },
    {
      "cell_type": "code",
      "source": [
        "state_vector = # COMPLETE THIS CODE"
      ],
      "metadata": {
        "id": "CdbQMxqqYfNB"
      },
      "execution_count": null,
      "outputs": []
    },
    {
      "cell_type": "markdown",
      "source": [
        "### **Problem #2.5 [OPTIONAL]**\n",
        "\n",
        "**Independently,**\n",
        "1. Create a qubit with label ``\"q0\"``.\n",
        "2. Create an empty quantum circuit.\n",
        "3. Append the qubit you created to the empty quantum circuit with a gate that will put your qubit in a superposition.\n",
        "4. Then print out the circuit.\n",
        "5. Print out the final state vector, dirac notation and bloch sphere representations of the qubit in the circuit."
      ],
      "metadata": {
        "id": "gAZT01cpYYhk"
      }
    },
    {
      "cell_type": "code",
      "source": [
        "qubit = # COMPLETE THIS CODE"
      ],
      "metadata": {
        "id": "KI21JiI8ZwOG"
      },
      "execution_count": null,
      "outputs": []
    },
    {
      "cell_type": "code",
      "source": [
        "state_vector = # COMPLETE THIS CODE"
      ],
      "metadata": {
        "id": "Lim7DD_-ZwIh"
      },
      "execution_count": null,
      "outputs": []
    },
    {
      "cell_type": "markdown",
      "source": [
        "### **Problem #2.6 [OPTIONAL]**\n",
        "\n",
        "**Independently,**\n",
        "1. Create a qubit with label ``\"q0\"``.\n",
        "2. Create an empty quantum circuit.\n",
        "3. Append the circuit in a way that will return a qubit in the 0 state\n",
        "4. Then print out the circuit.\n",
        "5. Print out the final state vector, dirac notation and bloch sphere representations of the qubit in the circuit.\n",
        "\n",
        "**Hint**: What state does a qubit start in?"
      ],
      "metadata": {
        "id": "2byiEbUUaL4a"
      }
    },
    {
      "cell_type": "code",
      "source": [
        "qubit = # COMPLETE THIS CODE"
      ],
      "metadata": {
        "id": "bd2QPghdahg-"
      },
      "execution_count": null,
      "outputs": []
    },
    {
      "cell_type": "code",
      "source": [
        "state_vector = # COMPLETE THIS CODE"
      ],
      "metadata": {
        "id": "yZtEk9bOah9x"
      },
      "execution_count": null,
      "outputs": []
    },
    {
      "cell_type": "markdown",
      "source": [
        "<a name=\"p3\"></a>\n",
        "\n",
        "---\n",
        "## **Part 3: Multiple Gates**\n",
        "---\n"
      ],
      "metadata": {
        "id": "gr_gKZmN0or_"
      }
    },
    {
      "cell_type": "markdown",
      "source": [
        "### **Problem #3.1**\n",
        "\n",
        "**Together:**\n",
        "1. Create a qubit with label ``\"q0\"``\n",
        "2. Create an empty quantum circuit.\n",
        "3. Append the qubit you created to the empty quantum circuit with an **H gate** applied to it.\n",
        "4. Apply another **H gate** to the qubit.\n",
        "5. Then print out the circuit.\n",
        "6. Print out the state vector, dirac notation, and bloch sphere of the qubit in the quantum circuit."
      ],
      "metadata": {
        "id": "se8TXAIHApfT"
      }
    },
    {
      "cell_type": "code",
      "source": [
        "# COMPLETE THIS CODE"
      ],
      "metadata": {
        "id": "MzSNeebjjHkg"
      },
      "execution_count": null,
      "outputs": []
    },
    {
      "cell_type": "markdown",
      "source": [
        "### **Problem #3.2**\n",
        "\n",
        "**Together:**\n",
        "1. Create a qubit with label ``\"q0\"``\n",
        "2. Create an empty quantum circuit.\n",
        "3. Append the qubit you created to the empty quantum circuit with an **X gate** applied to it.\n",
        "4. Apply another **X gate** to the qubit.\n",
        "5. Then print out the circuit.\n",
        "6. Print out the state vector, dirac notation, and bloch sphere of the qubit in the quantum circuit.\n",
        "\n"
      ],
      "metadata": {
        "id": "c7HsS0ckCH79"
      }
    },
    {
      "cell_type": "code",
      "source": [
        "# COMPLETE THIS CODE"
      ],
      "metadata": {
        "id": "uXRCpUuHjU7-"
      },
      "execution_count": null,
      "outputs": []
    },
    {
      "cell_type": "markdown",
      "source": [
        "### **Problem #3.3**\n",
        "\n",
        "**Independently:**\n",
        "1. Create a qubit with label ``\"q0\"``\n",
        "2. Create an empty quantum circuit.\n",
        "3. Append the qubit you created to the empty quantum circuit with an **X gate** applied to it.\n",
        "4. Apply a **H gate** to the qubit.\n",
        "5. Then print out the circuit.\n",
        "6. Print out the state vector, dirac notation, and bloch sphere of the qubit in the quantum circuit."
      ],
      "metadata": {
        "id": "nona3DpFCSz1"
      }
    },
    {
      "cell_type": "code",
      "source": [
        "# COMPLETE THIS CODE"
      ],
      "metadata": {
        "id": "2zlopMI5jZLI"
      },
      "execution_count": null,
      "outputs": []
    },
    {
      "cell_type": "markdown",
      "source": [
        "### **Problem #3.4**\n",
        "\n",
        "\n",
        "**Independently:**\n",
        "1. Create a qubit with label ``\"q0\"``\n",
        "2. Create an empty quantum circuit.\n",
        "3. Append the qubit you created to the empty quantum circuit with an **X gate** applied to it.\n",
        "4. Apply a **H gate** to the qubit.\n",
        "5. Apply another **X gate** to the qubit.\n",
        "6. Then print out the circuit.\n",
        "7. Print out the state vector, dirac notation, and bloch sphere of the qubit in the quantum circuit."
      ],
      "metadata": {
        "id": "xq3yQCV9VMxf"
      }
    },
    {
      "cell_type": "code",
      "source": [
        "# COMPLETE THIS CODE"
      ],
      "metadata": {
        "id": "DXsIF9LXjfmZ"
      },
      "execution_count": null,
      "outputs": []
    },
    {
      "cell_type": "markdown",
      "source": [
        "### **Problem #3.5**\n",
        "\n",
        "\n",
        "**Independently:**\n",
        "1. Create a qubit with label ``\"q0\"``\n",
        "2. Create an empty quantum circuit.\n",
        "3. Append the qubit you created to the empty quantum circuit with an **X gate** applied to it.\n",
        "4. Apply a **Z gate** to the qubit.\n",
        "5. Then print out the circuit.\n",
        "6. Print out the state vector, dirac notation, and bloch sphere of the qubit in the quantum circuit."
      ],
      "metadata": {
        "id": "AE8v1AukV3Ms"
      }
    },
    {
      "cell_type": "code",
      "source": [
        "# COMPLETE THIS CODE"
      ],
      "metadata": {
        "id": "ggqoP6HVjo-f"
      },
      "execution_count": null,
      "outputs": []
    },
    {
      "cell_type": "markdown",
      "source": [
        "### **Problem #3.6**\n",
        "\n",
        "\n",
        "**Independently:**\n",
        "1. Create a qubit with label ``\"q0\"``\n",
        "2. Create an empty quantum circuit.\n",
        "3. Append the qubit you created to the empty quantum circuit with an **X gate** applied to it.\n",
        "4. Apply a **Z gate** to the qubit.\n",
        "4. Apply another **H gate** to the qubit.\n",
        "5. Then print out the circuit.\n",
        "6. Print out the state vector, dirac notation, and bloch sphere of the qubit in the quantum circuit.\n"
      ],
      "metadata": {
        "id": "23MZ67-UWDV9"
      }
    },
    {
      "cell_type": "code",
      "source": [
        "# COMPLETE THIS CODE"
      ],
      "metadata": {
        "id": "WXl771WAjrYa"
      },
      "execution_count": null,
      "outputs": []
    },
    {
      "cell_type": "markdown",
      "source": [
        "---\n",
        "\n",
        "<center>\n",
        "\n",
        "### **Wait for Your Instructor to Continue**\n",
        "\n",
        "---"
      ],
      "metadata": {
        "id": "i892gsbgXAXi"
      }
    },
    {
      "cell_type": "markdown",
      "source": [
        "<a name=\"p4\"></a>\n",
        "\n",
        "---\n",
        "## **Part 4: Additional Practice [OPTIONAL]**\n",
        "---\n"
      ],
      "metadata": {
        "id": "kTDvCeUs6Jvi"
      }
    },
    {
      "cell_type": "markdown",
      "source": [
        "### **Problem #4.1**\n",
        "\n",
        "\n",
        "**Independently:**\n",
        "1. Create a qubit with label ``\"q0\"``\n",
        "2. Create an empty quantum circuit.\n",
        "3. Append the qubit you created to the empty quantum circuit with an **H gate** applied to it.\n",
        "4. Apply a **X gate** to the qubit.\n",
        "5. Apply another **H gate** to the qubit.\n",
        "6. Then print out the circuit.\n",
        "7. Print out the state vector, dirac notation, and bloch sphere of the qubit in the quantum circuit."
      ],
      "metadata": {
        "id": "f0eSV7yU6Jvu"
      }
    },
    {
      "cell_type": "code",
      "source": [
        "# COMPLETE THIS CODE"
      ],
      "metadata": {
        "id": "BRmIEPqW6Jvu"
      },
      "execution_count": null,
      "outputs": []
    },
    {
      "cell_type": "markdown",
      "source": [
        "### **Problem #4.2**\n",
        "\n",
        "\n",
        "**Independently:**\n",
        "1. Create a qubit with label ``\"q0\"``\n",
        "2. Create an empty quantum circuit.\n",
        "3. Append the qubit you created to the empty quantum circuit with an **H gate** applied to it.\n",
        "4. Apply a **Z gate** to the qubit.\n",
        "5. Apply another **Z gate** to the qubit.\n",
        "6. Apply another **H gate** to the qubit.\n",
        "7. Then print out the circuit.\n",
        "8. Print out the state vector, dirac notation, and bloch sphere of the qubit in the quantum circuit."
      ],
      "metadata": {
        "id": "BvTG0A8J6Jvw"
      }
    },
    {
      "cell_type": "code",
      "source": [
        "# COMPLETE THIS CODE"
      ],
      "metadata": {
        "id": "x6mJBq8i6Jvx"
      },
      "execution_count": null,
      "outputs": []
    },
    {
      "cell_type": "markdown",
      "source": [
        "### **Problem #4.3**\n",
        "\n",
        "**Independently:**\n",
        "1. Create a qubit with label ``\"q0\"``\n",
        "2. Create an empty quantum circuit.\n",
        "3. Append the qubit you created to the empty quantum circuit with an **X gate** applied to it.\n",
        "4. Apply a **H gate** to the qubit.\n",
        "5. Apply another **Z gate** to the qubit.\n",
        "6. Apply another **H gate** to the qubit.\n",
        "7. Apply another **X gate** to the qubit.\n",
        "8. Then print out the circuit.\n",
        "9. Print out the state vector, dirac notation, and bloch sphere of the qubit in the quantum circuit."
      ],
      "metadata": {
        "id": "9pFDen7A6Jvz"
      }
    },
    {
      "cell_type": "code",
      "source": [
        "# COMPLETE THIS CODE"
      ],
      "metadata": {
        "id": "GvQECCV06Jvz"
      },
      "execution_count": null,
      "outputs": []
    },
    {
      "cell_type": "markdown",
      "source": [
        "### **Problem #4.4**\n",
        "\n",
        "**Independently:**\n",
        "1. Create a qubit with label ``\"q0\"``\n",
        "2. Create an empty quantum circuit.\n",
        "3. Append the qubit you created to the empty quantum circuit with an **H gate** applied to it.\n",
        "4. Apply a **Z gate** to the qubit.\n",
        "5. Apply another **H gate** to the qubit.\n",
        "6. Apply another **X gate** to the qubit.\n",
        "7. Then print out the circuit.\n",
        "8. Print out the state vector, dirac notation, and bloch sphere of the qubit in the quantum circuit."
      ],
      "metadata": {
        "id": "xy6Okvr06Jv1"
      }
    },
    {
      "cell_type": "code",
      "source": [
        "# COMPLETE THIS CODE"
      ],
      "metadata": {
        "id": "JsFMl_5S6Jv1"
      },
      "execution_count": null,
      "outputs": []
    },
    {
      "cell_type": "markdown",
      "source": [
        "###**Problem #4.5**\n",
        "**Independently:**\n",
        "1. Create a qubit with label ``\"q0\"``\n",
        "2. Create an empty quantum circuit.\n",
        "3. Append the qubit you created to the empty quantum circuit with an **H gate** applied to it.\n",
        "4. Apply an **X gate** to the qubit.\n",
        "5. Then print out the circuit.\n",
        "6. Print out the state vector, dirac notation, and bloch sphere of the qubit in the quantum circuit."
      ],
      "metadata": {
        "id": "ChHPG7pc1pzk"
      }
    },
    {
      "cell_type": "code",
      "source": [
        "# COMPLETE THIS CODE"
      ],
      "metadata": {
        "id": "LQI2yPth5ymq"
      },
      "execution_count": null,
      "outputs": []
    },
    {
      "cell_type": "code",
      "source": [
        "# COMPLETE THIS CODE"
      ],
      "metadata": {
        "id": "NLasfark5ym_"
      },
      "execution_count": null,
      "outputs": []
    },
    {
      "cell_type": "markdown",
      "source": [
        "###**Problem #4.6**\n",
        "**Independently:**\n",
        "1. Create a qubit with label ``\"q0\"``\n",
        "2. Create an empty quantum circuit.\n",
        "3. Append the qubit you created to the empty quantum circuit with an **Z gate** applied to it.\n",
        "4. Apply an **X gate** to the qubit.\n",
        "5. Apply an **H gate** to the qubit.\n",
        "6. Then print out the circuit.\n",
        "7. Print out the state vector, dirac notation, and bloch sphere of the qubit in the quantum circuit."
      ],
      "metadata": {
        "id": "v_KuG8ZG1-h-"
      }
    },
    {
      "cell_type": "code",
      "source": [
        "# COMPLETE THIS CODE"
      ],
      "metadata": {
        "id": "lPI-7OFH5xiH"
      },
      "execution_count": null,
      "outputs": []
    },
    {
      "cell_type": "code",
      "source": [
        "# COMPLETE THIS CODE"
      ],
      "metadata": {
        "id": "NTbNIMGX5xiP"
      },
      "execution_count": null,
      "outputs": []
    },
    {
      "cell_type": "markdown",
      "source": [
        "###**Problem #4.7**\n",
        "**Independently:**\n",
        "1. Create a qubit with label ``\"q0\"``\n",
        "2. Create an empty quantum circuit.\n",
        "3. Append the qubit you created to the empty quantum circuit with an **Z gate** applied to it.\n",
        "4. Apply an **H gate** to the qubit.\n",
        "5. Apply an **X gate** to the qubit.\n",
        "6. Then print out the circuit.\n",
        "7. Print out the state vector, dirac notation, and bloch sphere of the qubit in the quantum circuit."
      ],
      "metadata": {
        "id": "5pbr69zh2Ser"
      }
    },
    {
      "cell_type": "code",
      "source": [
        "# COMPLETE THIS CODE"
      ],
      "metadata": {
        "id": "I8odq9X-5wkC"
      },
      "execution_count": null,
      "outputs": []
    },
    {
      "cell_type": "code",
      "source": [
        "# COMPLETE THIS CODE"
      ],
      "metadata": {
        "id": "S1mlX03u5wkM"
      },
      "execution_count": null,
      "outputs": []
    },
    {
      "cell_type": "markdown",
      "source": [
        "###**Problem #4.8**\n",
        "**Independently:**\n",
        "1. Create a qubit with label ``\"q0\"``\n",
        "2. Create an empty quantum circuit.\n",
        "3. Append the qubit you created to the empty quantum circuit with an **X gate** applied to it.\n",
        "4. Apply an **H gate** to the qubit.\n",
        "5. Apply an **Z gate** to the qubit.\n",
        "6. Then print out the circuit.\n",
        "7. Print out the state vector, dirac notation, and bloch sphere of the qubit in the quantum circuit."
      ],
      "metadata": {
        "id": "nnq5ef0_2Ydh"
      }
    },
    {
      "cell_type": "code",
      "source": [
        "# COMPLETE THIS CODE"
      ],
      "metadata": {
        "id": "c8CuYTN-5vhc"
      },
      "execution_count": null,
      "outputs": []
    },
    {
      "cell_type": "code",
      "source": [
        "# COMPLETE THIS CODE"
      ],
      "metadata": {
        "id": "bOzAFNrn5vhm"
      },
      "execution_count": null,
      "outputs": []
    },
    {
      "cell_type": "markdown",
      "source": [
        "###**Problem #4.9**\n",
        "**Independently:**\n",
        "1. Create a qubit with label ``\"q0\"``\n",
        "2. Create an empty quantum circuit.\n",
        "3. Append the qubit you created to the empty quantum circuit with an **H gate** applied to it.\n",
        "4. Apply an **X gate** to the qubit.\n",
        "5. Apply an **Z gate** to the qubit.\n",
        "6. Then print out the circuit.\n",
        "7. Print out the state vector, dirac notation, and bloch sphere of the qubit in the quantum circuit."
      ],
      "metadata": {
        "id": "cYrpijrP2hL8"
      }
    },
    {
      "cell_type": "code",
      "source": [
        "# COMPLETE THIS CODE"
      ],
      "metadata": {
        "id": "FUOlCx2e5uOE"
      },
      "execution_count": null,
      "outputs": []
    },
    {
      "cell_type": "code",
      "source": [
        "# COMPLETE THIS CODE"
      ],
      "metadata": {
        "id": "okc7pCWV5uOQ"
      },
      "execution_count": null,
      "outputs": []
    },
    {
      "cell_type": "markdown",
      "source": [
        "###**Problem #4.10**\n",
        "**Independently:**\n",
        "1. Create a qubit with label ``\"q0\"``\n",
        "2. Create an empty quantum circuit.\n",
        "3. Append the qubit you created to the empty quantum circuit with an **H gate** applied to it.\n",
        "4. Apply an **Z gate** to the qubit.\n",
        "5. Apply an **X gate** to the qubit.\n",
        "6. Then print out the circuit.\n",
        "7. Print out the state vector, dirac notation, and bloch sphere of the qubit in the quantum circuit."
      ],
      "metadata": {
        "id": "cOVWjhRl2maJ"
      }
    },
    {
      "cell_type": "code",
      "source": [
        "# COMPLETE THIS CODE"
      ],
      "metadata": {
        "id": "T205nGiZ5s8o"
      },
      "execution_count": null,
      "outputs": []
    },
    {
      "cell_type": "code",
      "source": [
        "# COMPLETE THIS CODE"
      ],
      "metadata": {
        "id": "FaALKyo-5s8w"
      },
      "execution_count": null,
      "outputs": []
    },
    {
      "cell_type": "markdown",
      "source": [
        "###**Problem #4.11**\n",
        "**Independently:**\n",
        "1. Create a qubit with label ``\"q0\"``\n",
        "2. Create an empty quantum circuit.\n",
        "3. Modify your circuit such that you will get a qubit in the - state.\n",
        "4. Then print out the circuit.\n",
        "5. Print out the state vector, dirac notation, and bloch sphere of the qubit in the quantum circuit."
      ],
      "metadata": {
        "id": "GSQoNwYn2vvA"
      }
    },
    {
      "cell_type": "code",
      "source": [
        "# COMPLETE THIS CODE"
      ],
      "metadata": {
        "id": "AmQvRIK05ll3"
      },
      "execution_count": null,
      "outputs": []
    },
    {
      "cell_type": "code",
      "source": [
        "# COMPLETE THIS CODE"
      ],
      "metadata": {
        "id": "ZFJP8vFT5ldD"
      },
      "execution_count": null,
      "outputs": []
    },
    {
      "cell_type": "markdown",
      "source": [
        "### **Problem #4.12**\n",
        "\n",
        "**Independently,** Run the cell below containing the circuit from Problem #4.4 to see the printed result."
      ],
      "metadata": {
        "id": "FwOp-su36JwH"
      }
    },
    {
      "cell_type": "code",
      "source": [
        "qubit = cirq.NamedQubit(\"q0\")\n",
        "qc = cirq.Circuit()\n",
        "qc.append(cirq.H(qubit))\n",
        "qc.append(cirq.Z(qubit))\n",
        "qc.append(cirq.H(qubit))\n",
        "qc.append(cirq.X(qubit))\n",
        "qc.append(cirq.measure(qubit))\n",
        "print(qc )\n",
        "simulator = cirq.Simulator()\n",
        "result = simulator.run(qc, repetitions=20)\n",
        "print( result )"
      ],
      "metadata": {
        "id": "vugbMpdu5iSm"
      },
      "execution_count": null,
      "outputs": []
    },
    {
      "cell_type": "markdown",
      "source": [
        "#End of notebook\n",
        "---\n",
        "© 2023 The Coding School, All rights reserved"
      ],
      "metadata": {
        "id": "c5LW1-qO3CHK"
      }
    }
  ]
}