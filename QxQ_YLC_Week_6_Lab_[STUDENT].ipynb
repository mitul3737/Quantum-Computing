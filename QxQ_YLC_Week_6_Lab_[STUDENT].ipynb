{
  "nbformat": 4,
  "nbformat_minor": 0,
  "metadata": {
    "colab": {
      "provenance": [],
      "include_colab_link": true
    },
    "kernelspec": {
      "name": "python3",
      "display_name": "Python 3"
    },
    "language_info": {
      "name": "python"
    }
  },
  "cells": [
    {
      "cell_type": "markdown",
      "metadata": {
        "id": "view-in-github",
        "colab_type": "text"
      },
      "source": [
        "<a href=\"https://colab.research.google.com/github/mitul3737/Quantum-Computing/blob/main/QxQ_YLC_Week_6_Lab_%5BSTUDENT%5D.ipynb\" target=\"_parent\"><img src=\"https://colab.research.google.com/assets/colab-badge.svg\" alt=\"Open In Colab\"/></a>"
      ]
    },
    {
      "cell_type": "markdown",
      "source": [
        "# **Lab 6: Cirq I**\n",
        "---\n",
        "\n",
        "### **Description**\n",
        "In today's lab, you will recognize the basics of Cirq and how to work with Quantum Circuit Objects.\n",
        "\n",
        "<br>\n",
        "\n",
        "### **Lab Structure**\n",
        "**Part 1**: [Introduction to Lists](#p1)\n",
        "\n",
        "**Part 2**: [Working with Qubit Representations](#p3)\n",
        "\n",
        "**Part 3**: [Introduction to Cirq](#p2)\n",
        "\n",
        "\n",
        "<br>\n",
        "\n",
        "### **Learning Objectives**\n",
        "By the end of this lab, we will:\n",
        "* Recognize the landscape of quantum programming options.\n",
        "* Recognize the basics of lists in python.\n",
        "* Recognize the basics of Cirq.\n",
        "* Recognize how to represent qubits and their states in Cirq.\n",
        "\n",
        "\n",
        "<br>\n",
        "\n",
        "### **Resources**\n",
        "\n",
        "\n",
        "<br>\n",
        "\n",
        "**Before starting, run the code below to import all necessary functions and libraries.**\n"
      ],
      "metadata": {
        "id": "vVljAnAXU42m"
      }
    },
    {
      "cell_type": "code",
      "execution_count": null,
      "metadata": {
        "colab": {
          "base_uri": "https://localhost:8080/"
        },
        "id": "UV5G_4F6j2wL",
        "outputId": "014e7cac-6362-4d2a-8b58-dbb8986b0b03",
        "cellView": "form"
      },
      "outputs": [
        {
          "output_type": "stream",
          "name": "stdout",
          "text": [
            "Libraries imported successfully!\n"
          ]
        }
      ],
      "source": [
        "# @title\n",
        "!pip install cirq --quiet\n",
        "!pip install qutip --quiet\n",
        "import cirq\n",
        "import numpy as np\n",
        "import cirq_web.bloch_sphere as bloch_sphere\n",
        "print(\"Libraries imported successfully!\")"
      ]
    },
    {
      "cell_type": "markdown",
      "source": [
        "<a name=\"p1\"></a>\n",
        "\n",
        "---\n",
        "## **Part 1: Introduction to Lists**\n",
        "---\n",
        "In this part, you will begin to practice using lists in Python."
      ],
      "metadata": {
        "id": "ODFIrW2n8XDN"
      }
    },
    {
      "cell_type": "markdown",
      "source": [
        "### **Problem #1.1**\n",
        "**Together**, create a list with the entries 3,1, and 4. Output the list."
      ],
      "metadata": {
        "id": "Fqee2OhRwupR"
      }
    },
    {
      "cell_type": "code",
      "source": [
        "my_list = # COMPLETE THIS CODE"
      ],
      "metadata": {
        "id": "5PthX2PFabYY"
      },
      "execution_count": null,
      "outputs": []
    },
    {
      "cell_type": "markdown",
      "source": [
        "###**Probem #1.2**\n",
        "**Together**, output the 1st entry of `my_list`."
      ],
      "metadata": {
        "id": "-mizx_p846YB"
      }
    },
    {
      "cell_type": "code",
      "source": [
        "# COMPLETE THIS CODE"
      ],
      "metadata": {
        "id": "RplF0we2auLi"
      },
      "execution_count": null,
      "outputs": []
    },
    {
      "cell_type": "markdown",
      "source": [
        "###**Problem #1.3**\n",
        "**Together**, output the last entry of `my_list`."
      ],
      "metadata": {
        "id": "MD5NyiJ_7Cnh"
      }
    },
    {
      "cell_type": "code",
      "source": [
        "# COMPLETE THIS CODE"
      ],
      "metadata": {
        "id": "RIauR3Nja1dH"
      },
      "execution_count": null,
      "outputs": []
    },
    {
      "cell_type": "markdown",
      "source": [
        "###**Problem # 1.4**\n",
        "**Together**, create a list containing the strings 'apple', 'banana', 'strawberry', and 'orange'. Output the third entry."
      ],
      "metadata": {
        "id": "FNfw7n3u-FmX"
      }
    },
    {
      "cell_type": "code",
      "source": [
        "fruit_list = # COMPLETE THIS CODE"
      ],
      "metadata": {
        "id": "w6j8N7U7a8Mf"
      },
      "execution_count": null,
      "outputs": []
    },
    {
      "cell_type": "markdown",
      "source": [
        "###**Problem # 1.5**\n",
        "**Together**, output the third to last entry of `long_list`."
      ],
      "metadata": {
        "id": "eObl96f8AIHF"
      }
    },
    {
      "cell_type": "code",
      "source": [
        "long_list = [1,5,9,2,6,5,3,5,8,9,7,9,3,2,3,8,4,6,2,6,4,3,3,8,3,2,7,9,5,0,2,8,8]\n",
        "# COMPLETE THIS CODE"
      ],
      "metadata": {
        "id": "hPjkHKeUbB1L"
      },
      "execution_count": null,
      "outputs": []
    },
    {
      "cell_type": "markdown",
      "source": [
        "###**Problem #1.6**\n",
        "**Independently**, output the second entry of `long_list` and the second to last entry of `long_list`."
      ],
      "metadata": {
        "id": "iJbhwNydeox3"
      }
    },
    {
      "cell_type": "code",
      "source": [
        "# COMPLETE THIS CODE"
      ],
      "metadata": {
        "id": "TP5I2VI5e6xS"
      },
      "execution_count": null,
      "outputs": []
    },
    {
      "cell_type": "code",
      "source": [
        "# COMPLETE THIS CODE"
      ],
      "metadata": {
        "id": "c2MiObgZe9St"
      },
      "execution_count": null,
      "outputs": []
    },
    {
      "cell_type": "markdown",
      "source": [
        "###**Problem #1.7**\n",
        "**Independently**, output the first appearance of  in both `my_list` and `long_list`."
      ],
      "metadata": {
        "id": "Ly1Ct7d_fTpb"
      }
    },
    {
      "cell_type": "code",
      "source": [
        "# COMPLETE THIS CODE"
      ],
      "metadata": {
        "id": "jhdCDy2dfujS"
      },
      "execution_count": null,
      "outputs": []
    },
    {
      "cell_type": "code",
      "source": [
        "# COMPLETE THIS CODE"
      ],
      "metadata": {
        "id": "jn-Z0ZU5fuYU"
      },
      "execution_count": null,
      "outputs": []
    },
    {
      "cell_type": "markdown",
      "source": [
        "---\n",
        "\n",
        "<center>\n",
        "\n",
        "#### **Wait for Your Instructor to Continue**\n",
        "\n",
        "---"
      ],
      "metadata": {
        "id": "pG23zlcUgqL9"
      }
    },
    {
      "cell_type": "markdown",
      "source": [
        "###**Problem #1.8**\n",
        "**Together**, append the string \"mango\" to the below list. Output the new list."
      ],
      "metadata": {
        "id": "7Vo78WewI13A"
      }
    },
    {
      "cell_type": "code",
      "source": [
        "fruit_list = ['apple', 'banana', 'strawberry', 'orange']\n",
        "# COMPLETE THIS CODE"
      ],
      "metadata": {
        "id": "-M9ZUP45bTCG"
      },
      "execution_count": null,
      "outputs": []
    },
    {
      "cell_type": "markdown",
      "source": [
        "###**Problem #1.9**\n",
        "**Together**, add the elements from `long_list` to the list below. Output the new list."
      ],
      "metadata": {
        "id": "IqxK8WTCJ4TH"
      }
    },
    {
      "cell_type": "code",
      "source": [
        "pi_list = [3,1,4]\n",
        "# COMPLETE THIS CODE"
      ],
      "metadata": {
        "id": "uAllw4jNbc-D"
      },
      "execution_count": null,
      "outputs": []
    },
    {
      "cell_type": "markdown",
      "source": [
        "###**Problem #1.10**\n",
        "**Independently**, what is the length of the new `pi_list`?"
      ],
      "metadata": {
        "id": "teDR83jgL2YS"
      }
    },
    {
      "cell_type": "code",
      "source": [
        "# COMPLETE THIS CODE"
      ],
      "metadata": {
        "id": "hLmIL0BLbkqu"
      },
      "execution_count": null,
      "outputs": []
    },
    {
      "cell_type": "markdown",
      "source": [
        "###**Problem #1.11**\n",
        "**Independently**, add your favorite fruit to `fruit_list`. Output the new list."
      ],
      "metadata": {
        "id": "WEuXdRJMhDtC"
      }
    },
    {
      "cell_type": "code",
      "source": [
        "# COMPLETE THIS CODE"
      ],
      "metadata": {
        "id": "6pKH-gQxhXaf"
      },
      "execution_count": null,
      "outputs": []
    },
    {
      "cell_type": "markdown",
      "source": [
        "###**Problem #1.12**\n",
        "**Independently**, add `fruit_list` to `pi_list`. Output the new list."
      ],
      "metadata": {
        "id": "LYQjIaYbhumA"
      }
    },
    {
      "cell_type": "code",
      "source": [
        "# COMPLETE THIS CODE"
      ],
      "metadata": {
        "id": "i0AC9hAMh9eL"
      },
      "execution_count": null,
      "outputs": []
    },
    {
      "cell_type": "markdown",
      "source": [
        "###**Problem #1.13 [ADVANCED]**\n",
        "**Independently**, sort the entries of `pi_list` in ascending order and return the new list."
      ],
      "metadata": {
        "id": "qbRRIERBLPfu"
      }
    },
    {
      "cell_type": "code",
      "source": [
        "# COMPLETE THIS CODE"
      ],
      "metadata": {
        "id": "FmOyto21bzj2"
      },
      "execution_count": null,
      "outputs": []
    },
    {
      "cell_type": "markdown",
      "source": [
        "###**Problem #1.14 [ADVANCED]**\n",
        "**Independently**, output the third entry of `long_list` to the third to last entry."
      ],
      "metadata": {
        "id": "_zKw2i2zBEiu"
      }
    },
    {
      "cell_type": "code",
      "source": [
        "# COMPLETE THIS CODE"
      ],
      "metadata": {
        "id": "MI8a6Mfeb6qR"
      },
      "execution_count": null,
      "outputs": []
    },
    {
      "cell_type": "markdown",
      "source": [
        "<a name=\"p3\"></a>\n",
        "\n",
        "---\n",
        "## **Part 2: Working with Qubit Representations**\n",
        "---\n",
        "In this part, you will represent qubit states using vectors, ket notation, and the Bloch Sphere."
      ],
      "metadata": {
        "id": "N3J6h22fYVuU"
      }
    },
    {
      "cell_type": "markdown",
      "source": [
        "###**Problem #2.1**\n",
        "**Together**, create a two dimensional vector whose first component is 1 and whose second component is 0. Return the vector as an output."
      ],
      "metadata": {
        "id": "lBRxYKR19-qY"
      }
    },
    {
      "cell_type": "code",
      "source": [
        "vec = # COMPLETE THIS CODE"
      ],
      "metadata": {
        "id": "DCIrz4UADaJr"
      },
      "execution_count": null,
      "outputs": []
    },
    {
      "cell_type": "markdown",
      "source": [
        "###**Problem #2.2**\n",
        "**Together**, convert the vector from Problem #2.1 into Dirac Notation."
      ],
      "metadata": {
        "id": "YUlMmjgH-13e"
      }
    },
    {
      "cell_type": "code",
      "source": [
        "# COMPLETE THIS CODE"
      ],
      "metadata": {
        "id": "qojPZ3VdDeJc"
      },
      "execution_count": null,
      "outputs": []
    },
    {
      "cell_type": "markdown",
      "source": [
        "###**Problem #2.3**\n",
        "**Together**, create a Bloch Sphere of radius 3 using the vector from Problem #2.1 as the state_vector."
      ],
      "metadata": {
        "id": "0tKvwwUUgmuQ"
      }
    },
    {
      "cell_type": "code",
      "source": [
        "# COMPLETE THIS CODE"
      ],
      "metadata": {
        "id": "sDC_aBkFDvB7"
      },
      "execution_count": null,
      "outputs": []
    },
    {
      "cell_type": "markdown",
      "source": [
        "###**Problem #2.4**\n",
        "**Independently**, create a vector whose first component is 0 and whose second component is 1."
      ],
      "metadata": {
        "id": "FXDU4QGb1nng"
      }
    },
    {
      "cell_type": "code",
      "source": [
        "vec = # COMPLETE THIS CODE"
      ],
      "metadata": {
        "id": "PGuT1MIGD0Me"
      },
      "execution_count": null,
      "outputs": []
    },
    {
      "cell_type": "markdown",
      "source": [
        "###**Problem #2.5**\n",
        "**Independently**, put the vector in Problem #2.4 into ket notation."
      ],
      "metadata": {
        "id": "M_kr9yOh2iJj"
      }
    },
    {
      "cell_type": "code",
      "source": [
        "# COMPLETE THIS CODE"
      ],
      "metadata": {
        "id": "P2hQt2hdD_0z"
      },
      "execution_count": null,
      "outputs": []
    },
    {
      "cell_type": "markdown",
      "source": [
        "###**Problem #2.6**\n",
        "**Independently**, place your vector on the Bloch Sphere."
      ],
      "metadata": {
        "id": "3WUyrqyo24Uc"
      }
    },
    {
      "cell_type": "code",
      "source": [
        "# COMPLETE THIS CODE"
      ],
      "metadata": {
        "id": "pfwsF2FYEC9o"
      },
      "execution_count": null,
      "outputs": []
    },
    {
      "cell_type": "markdown",
      "source": [
        "###**Problem #2.7**\n",
        "**Independently**, create three representations for the + state."
      ],
      "metadata": {
        "id": "o86hsKfs4Gg2"
      }
    },
    {
      "cell_type": "code",
      "source": [
        "# COMPLETE THIS CODE"
      ],
      "metadata": {
        "id": "Mg-_u9PKEHpF"
      },
      "execution_count": null,
      "outputs": []
    },
    {
      "cell_type": "code",
      "source": [
        "# COMPLETE THIS CODE"
      ],
      "metadata": {
        "id": "yIxutwiZEHeH"
      },
      "execution_count": null,
      "outputs": []
    },
    {
      "cell_type": "code",
      "source": [
        "# COMPLETE THIS CODE"
      ],
      "metadata": {
        "id": "QWpx12eDEHQE"
      },
      "execution_count": null,
      "outputs": []
    },
    {
      "cell_type": "markdown",
      "source": [
        "<a name=\"p2\"></a>\n",
        "\n",
        "---\n",
        "## **Part 3: Introduction to Cirq**\n",
        "---\n",
        "In this part, you will begin to practice the basics of Cirq, including creating single qubits, creating multiple qubits, creating circuits, editing circuits, and simulating circuits."
      ],
      "metadata": {
        "id": "B4doNX6tNzlq"
      }
    },
    {
      "cell_type": "markdown",
      "source": [
        "###**Problem #3.1**\n",
        "**Together**, let's create a qubit."
      ],
      "metadata": {
        "id": "I3sYt-Y0-CGz"
      }
    },
    {
      "cell_type": "code",
      "source": [
        "my_qubit = # COMPLETE THIS CODE"
      ],
      "metadata": {
        "id": "dTDUnY9jCLRH"
      },
      "execution_count": null,
      "outputs": []
    },
    {
      "cell_type": "markdown",
      "source": [
        "###**Problem #3.2**\n",
        "**Together**, output your qubit."
      ],
      "metadata": {
        "id": "gjzcJAesUahT"
      }
    },
    {
      "cell_type": "code",
      "source": [
        "# COMPLETE THIS CODE"
      ],
      "metadata": {
        "id": "vBa8JjCnCU83"
      },
      "execution_count": null,
      "outputs": []
    },
    {
      "cell_type": "markdown",
      "source": [
        "###**Problem #3.3**\n",
        "Together, let's create a circuit."
      ],
      "metadata": {
        "id": "mLuuGTenA9EC"
      }
    },
    {
      "cell_type": "code",
      "source": [
        "my_qubit = # COMPLETE THIS CODE\n",
        "my_circuit = # COMPLETE THIS CODE"
      ],
      "metadata": {
        "id": "OkILcZJTCqtz"
      },
      "execution_count": null,
      "outputs": []
    },
    {
      "cell_type": "markdown",
      "source": [
        "###**Problem # 3.4**\n",
        "**Together**, append the circuit so that we can measure the qubit. Output your circuit."
      ],
      "metadata": {
        "id": "FoUqXFHOPuJq"
      }
    },
    {
      "cell_type": "code",
      "source": [
        "# COMPLETE THIS CODE"
      ],
      "metadata": {
        "id": "YlGnE-vWC_cV"
      },
      "execution_count": null,
      "outputs": []
    },
    {
      "cell_type": "markdown",
      "source": [
        "###**Problem #3.5**\n",
        "**Together**, simulate the result of your circuit."
      ],
      "metadata": {
        "id": "nC_5Z-jqRRaG"
      }
    },
    {
      "cell_type": "code",
      "source": [
        "sim = # COMPLETE THIS CODE"
      ],
      "metadata": {
        "id": "-FbWI5EMDEWf"
      },
      "execution_count": null,
      "outputs": []
    },
    {
      "cell_type": "markdown",
      "source": [
        "###**Problem #3.6 [ADVANCED]**\n",
        "**Independently**,\n",
        "* create a list of three qubits.\n",
        "* create a circuit.\n",
        "* append a measurement for each of your qubits.\n",
        "* simulate the results of your circuit."
      ],
      "metadata": {
        "id": "Duz3gA6nZGqd"
      }
    },
    {
      "cell_type": "code",
      "source": [
        "my_qubits = # COMPLETE THIS CODE"
      ],
      "metadata": {
        "id": "gGjl9ws5Z-Rh"
      },
      "execution_count": null,
      "outputs": []
    },
    {
      "cell_type": "markdown",
      "source": [
        "###**Problem #3.7 [ADVANCED]**\n",
        "**Independently**,\n",
        "* create a list of three qubits.\n",
        "* create a circuit.\n",
        "* append a measurement to only the. second element of your list.\n",
        "* simulate the results of your circuit."
      ],
      "metadata": {
        "id": "ouFOOMdXZupC"
      }
    },
    {
      "cell_type": "code",
      "source": [
        "my_qubits = # COMPLETE THIS CODE"
      ],
      "metadata": {
        "id": "UWcLCKHjaNdA"
      },
      "execution_count": null,
      "outputs": []
    },
    {
      "cell_type": "markdown",
      "source": [
        "###**Problem #3.8 [ADVANCED]**\n",
        "**Independently**,\n",
        "* create three qubits using the range() method.\n",
        "* create a circuit.\n",
        "* measure each qubit.\n",
        "\n",
        "Output the circuit and output the results of the simulation."
      ],
      "metadata": {
        "id": "r338HEIQS8GO"
      }
    },
    {
      "cell_type": "code",
      "source": [
        "# COMPLETE THIS CODE"
      ],
      "metadata": {
        "id": "hi1YeVDfDNfE"
      },
      "execution_count": null,
      "outputs": []
    },
    {
      "cell_type": "markdown",
      "source": [
        "<a name=\"p4\"></a>\n",
        "\n",
        "---\n",
        "## **Part 4: Additional Practice Problems [OPTIONAL]**\n",
        "---\n",
        "In this part, you can continue practicing your skills with Cirq and lists."
      ],
      "metadata": {
        "id": "bBF8NEkk-vk-"
      }
    },
    {
      "cell_type": "markdown",
      "source": [
        "###**Problem #4.1**\n",
        "**Independently**, create a list of five qubits. Output the fourth entry of your list."
      ],
      "metadata": {
        "id": "Nkp6dmVn_G0J"
      }
    },
    {
      "cell_type": "code",
      "source": [
        "my_qubits = # COMPLETE THIS CODE"
      ],
      "metadata": {
        "id": "CVBYPL48DkdT"
      },
      "execution_count": null,
      "outputs": []
    },
    {
      "cell_type": "markdown",
      "source": [
        "###**Problem #4.2**\n",
        "**Independently**, output the last output from your above list."
      ],
      "metadata": {
        "id": "4FA-0KCr_91b"
      }
    },
    {
      "cell_type": "code",
      "source": [
        "# COMPLETE THIS CODE"
      ],
      "metadata": {
        "id": "mRePTcYNDsxV"
      },
      "execution_count": null,
      "outputs": []
    },
    {
      "cell_type": "markdown",
      "source": [
        "###**Problem #4.3**\n",
        "**Independently**, create a qubit, create a circuit, and append two measurements. Print your circuit."
      ],
      "metadata": {
        "id": "KqNorNTqAYgS"
      }
    },
    {
      "cell_type": "code",
      "source": [
        "my_qubit = # COMPLETE THIS CODE"
      ],
      "metadata": {
        "id": "7YnoOppCDytc"
      },
      "execution_count": null,
      "outputs": []
    },
    {
      "cell_type": "markdown",
      "source": [
        "###**Problem #4.4**\n",
        "**Independently**, run the code below, which simulates the results of your circuit in Problem #4.3. Read the results carefully."
      ],
      "metadata": {
        "id": "VU6_RAcJBSMB"
      }
    },
    {
      "cell_type": "code",
      "source": [
        "sim = cirq.Simulator()\n",
        "result = sim.run(my_circuit)\n",
        "print(result)"
      ],
      "metadata": {
        "id": "-sKixFvnD9Ra"
      },
      "execution_count": null,
      "outputs": []
    },
    {
      "cell_type": "markdown",
      "source": [
        "###**Problem #4.5**\n",
        "**Independently**, read through the error message from Problem #4.5. Print what is causing the error."
      ],
      "metadata": {
        "id": "QeC86plgBtcY"
      }
    },
    {
      "cell_type": "code",
      "source": [
        "# COMPLETE THIS CODE"
      ],
      "metadata": {
        "id": "fzQiwiBqEEi7"
      },
      "execution_count": null,
      "outputs": []
    },
    {
      "cell_type": "markdown",
      "source": [
        "#End of notebook\n",
        "---\n",
        "© 2023 The Coding School, All rights reserved"
      ],
      "metadata": {
        "id": "_KB2uS9d0QO5"
      }
    }
  ]
}