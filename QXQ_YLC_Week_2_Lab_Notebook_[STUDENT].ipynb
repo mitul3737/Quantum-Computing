{
  "nbformat": 4,
  "nbformat_minor": 0,
  "metadata": {
    "colab": {
      "provenance": [],
      "include_colab_link": true
    },
    "kernelspec": {
      "name": "python3",
      "display_name": "Python 3"
    },
    "language_info": {
      "name": "python"
    }
  },
  "cells": [
    {
      "cell_type": "markdown",
      "metadata": {
        "id": "view-in-github",
        "colab_type": "text"
      },
      "source": [
        "<a href=\"https://colab.research.google.com/github/mitul3737/Quantum-Computing/blob/main/QXQ_YLC_Week_2_Lab_Notebook_%5BSTUDENT%5D.ipynb\" target=\"_parent\"><img src=\"https://colab.research.google.com/assets/colab-badge.svg\" alt=\"Open In Colab\"/></a>"
      ]
    },
    {
      "cell_type": "markdown",
      "source": [
        "# **Lab 2: Python Basics I**\n",
        "---\n",
        "\n",
        "### **Description**\n",
        "In this lab, we will familiarize ourselves with Google Colab. We will also begin to develop the necessary Python skills and foundation, paving the way for success in our upcoming quantum computing course.\n",
        "\n",
        "<br>\n",
        "\n",
        "### **Structure**\n",
        "**Part 1**: [Getting Familiar with Google Colab](#p1)\n",
        "\n",
        "**Part 2**: [Arithmetic Operators](#p2)\n",
        "\n",
        "**Part 3**: [Variables](#p3)\n",
        "\n",
        "**Part 4**: [Additional Practice [OPTIONAL]](#p4)\n",
        ">\n",
        "> **Part 4.1**: [Arithmetic Operators](#p4.1)\n",
        ">\n",
        "> **Part 4.2**: [Variables](#p4.2)\n",
        "\n",
        "\n",
        "<br>\n",
        "\n",
        "### **Learning Objectives**\n",
        "By the end of this lab, we will:\n",
        "* Recognize the definition/framework of objects and attributes.\n",
        "* Recognize the main data types and how to modify them with basic arithmetic operators (+, -, /, *).\n",
        "* Recognize that variables are a way to store objects.\n",
        "\n",
        "\n",
        "<br>\n",
        "\n",
        "### **Resources**\n",
        "* [Python Basics Cheat Sheet](https://docs.google.com/document/d/1uLao-xKh3tYIiCYyiqf7oas4qTlr5XYKQ0QpzX_Xzag/edit?usp=sharing)"
      ],
      "metadata": {
        "id": "K3JVwUgVElwe"
      }
    },
    {
      "cell_type": "markdown",
      "source": [
        "<a name=\"p1\"></a>\n",
        "\n",
        "---\n",
        "## **Part 1: Getting Familiar with Google Colab**\n",
        "---"
      ],
      "metadata": {
        "id": "vFusVI8O6sd-"
      }
    },
    {
      "cell_type": "markdown",
      "source": [
        "#### **Problem #1.1**\n",
        "\n",
        "**Together**, let's change the title of our notebook. Rename the notebook to \"QXQ Week 1 Lab Notebook\"."
      ],
      "metadata": {
        "id": "4EgRMGgY7J-X"
      }
    },
    {
      "cell_type": "markdown",
      "source": [
        "#### **Problem #1.2**\n",
        "\n",
        "**Together**, let's create a new text cell and type: \"This is a text cell.\""
      ],
      "metadata": {
        "id": "1977NXTR78g_"
      }
    },
    {
      "cell_type": "markdown",
      "source": [
        "#### **Problem #1.3**\n",
        "\n",
        "**Together**, let's create a new code cell and type: \"This is a code cell.\""
      ],
      "metadata": {
        "id": "7EcHRNJt8QaH"
      }
    },
    {
      "cell_type": "markdown",
      "source": [
        "#### **Problem #1.4**\n",
        "\n",
        "**Together**, let's run the code cell below."
      ],
      "metadata": {
        "id": "Lgm13Kns8Vzi"
      }
    },
    {
      "cell_type": "code",
      "source": [
        "\"Hello World!\""
      ],
      "metadata": {
        "id": "se-uUU8bE-Gn"
      },
      "execution_count": null,
      "outputs": []
    },
    {
      "cell_type": "markdown",
      "source": [
        "---\n",
        "\n",
        "<center>\n",
        "\n",
        "#### **Wait for Your Instructor to Continue**\n",
        "\n",
        "---"
      ],
      "metadata": {
        "id": "0EOWYdxhTiki"
      }
    },
    {
      "cell_type": "markdown",
      "source": [
        "<a name=\"p2\"></a>\n",
        "\n",
        "---\n",
        "## **Part 2: Arithmetic Operators**\n",
        "---"
      ],
      "metadata": {
        "id": "H5MIexSZviqM"
      }
    },
    {
      "cell_type": "markdown",
      "source": [
        "#### **Problem #2.1**\n",
        "\n",
        "**Together**, let's add the ints 3 and 2."
      ],
      "metadata": {
        "id": "Nkrwij4gSu0h"
      }
    },
    {
      "cell_type": "code",
      "source": [
        "3 + # COMPLETE THIS CODE"
      ],
      "metadata": {
        "id": "rwGjkCmrT8cp"
      },
      "execution_count": null,
      "outputs": []
    },
    {
      "cell_type": "markdown",
      "source": [
        "#### **Problem #2.2**\n",
        "\n",
        "**Together**, let's add 7.0 and 2.0."
      ],
      "metadata": {
        "id": "TMg9xuU4bGXO"
      }
    },
    {
      "cell_type": "code",
      "source": [
        "7.0 + # COMPLETE THIS CODE"
      ],
      "metadata": {
        "id": "gxuz6DBtbS4b"
      },
      "execution_count": null,
      "outputs": []
    },
    {
      "cell_type": "markdown",
      "source": [
        "#### **Problem #2.3**\n",
        "\n",
        "**Together**, let's divide 23 by 2."
      ],
      "metadata": {
        "id": "AoNyZMOLbHzG"
      }
    },
    {
      "cell_type": "code",
      "source": [
        "# COMPLETE THIS CODE"
      ],
      "metadata": {
        "id": "2qLvU5ArbX9e"
      },
      "execution_count": null,
      "outputs": []
    },
    {
      "cell_type": "markdown",
      "source": [
        "#### **Problem #2.4**\n",
        "\n",
        "**Together**, let's multiply 24.0 and 25.4."
      ],
      "metadata": {
        "id": "MAhg9IhNbIW9"
      }
    },
    {
      "cell_type": "code",
      "source": [
        "# COMPLETE THIS CODE"
      ],
      "metadata": {
        "id": "vQouy4o_brEN"
      },
      "execution_count": null,
      "outputs": []
    },
    {
      "cell_type": "markdown",
      "source": [
        "---\n",
        "\n",
        "#### **Now it's your turn! Try Problems #2.5 - 2.7 on your own.**\n",
        "\n",
        "---"
      ],
      "metadata": {
        "id": "Ttxn0Y39k4mS"
      }
    },
    {
      "cell_type": "markdown",
      "source": [
        "#### **Problem #2.5**\n",
        "\n",
        "**Independently**, add 13 and 27."
      ],
      "metadata": {
        "id": "bAfEeCA5gwqX"
      }
    },
    {
      "cell_type": "code",
      "source": [
        "# COMPLETE THIS CODE"
      ],
      "metadata": {
        "id": "nlNB4BF_jsEt"
      },
      "execution_count": null,
      "outputs": []
    },
    {
      "cell_type": "markdown",
      "source": [
        "#### **Problem #2.6**\n",
        "\n",
        "**Independently**, multiply 1000 and 3000.5."
      ],
      "metadata": {
        "id": "d_U6ur7jgxTk"
      }
    },
    {
      "cell_type": "code",
      "source": [
        "# COMPLETE THIS CODE"
      ],
      "metadata": {
        "id": "i3mHYwJaj02C"
      },
      "execution_count": null,
      "outputs": []
    },
    {
      "cell_type": "markdown",
      "source": [
        "#### **Problem #2.7**\n",
        "\n",
        "**Independently**, divide 250 by 50."
      ],
      "metadata": {
        "id": "JbFm4hjKgxfX"
      }
    },
    {
      "cell_type": "code",
      "source": [
        "# COMPLETE THIS CODE"
      ],
      "metadata": {
        "id": "NCZtaMI1jF4r"
      },
      "execution_count": null,
      "outputs": []
    },
    {
      "cell_type": "markdown",
      "source": [
        "---\n",
        "\n",
        "<center>\n",
        "\n",
        "#### **Wait for Your Instructor to Continue**\n",
        "\n",
        "---"
      ],
      "metadata": {
        "id": "AzaGwjHOX9Ou"
      }
    },
    {
      "cell_type": "markdown",
      "source": [
        "<a name=\"p3\"></a>\n",
        "\n",
        "---\n",
        "## **Part 3: Variables**\n",
        "---"
      ],
      "metadata": {
        "id": "8ZlKbmO6kmGl"
      }
    },
    {
      "cell_type": "markdown",
      "source": [
        "#### **Problem #3.1**\n",
        "\n",
        "**Together**, let's create a variable called `my_school` and assign a string (anything inside quotes: `\"...\"`) to it with your school's name.\n",
        "\n",
        "<br>\n",
        "\n",
        "**NOTE**: We will output the variable's value by writing the name on a line of its own."
      ],
      "metadata": {
        "id": "6tp4GH_pFiXc"
      }
    },
    {
      "cell_type": "code",
      "source": [
        "my_school = \"# COMPLETE THIS CODE\n",
        "\n",
        "my_school"
      ],
      "metadata": {
        "id": "dIcO-GzF7jnH"
      },
      "execution_count": null,
      "outputs": []
    },
    {
      "cell_type": "markdown",
      "source": [
        "#### **Problem #3.2**\n",
        "\n",
        "**Together**, let's create and name a variable with your favorite number as an integer. Output its value."
      ],
      "metadata": {
        "id": "GeA492pRF9Et"
      }
    },
    {
      "cell_type": "code",
      "source": [
        "# COMPLETE THIS CODE"
      ],
      "metadata": {
        "id": "BcaGXsBo7qys"
      },
      "execution_count": null,
      "outputs": []
    },
    {
      "cell_type": "markdown",
      "source": [
        "---\n",
        "\n",
        "#### **Now it's your turn! Try Problems #3.3 - 3.4 on your own.**\n",
        "\n",
        "---"
      ],
      "metadata": {
        "id": "jK_9G-b4Thcu"
      }
    },
    {
      "cell_type": "markdown",
      "source": [
        "#### **Problem #3.3**\n",
        "\n",
        "**Independently**, create and name a variable with your favorite number as a float. Output its value."
      ],
      "metadata": {
        "id": "PFzpApaisZj3"
      }
    },
    {
      "cell_type": "code",
      "source": [
        "# COMPLETE THIS CODE"
      ],
      "metadata": {
        "id": "TJ1lbMmBseNz"
      },
      "execution_count": null,
      "outputs": []
    },
    {
      "cell_type": "markdown",
      "source": [
        "#### **Problem #3.4**\n",
        "\n",
        "**Independently**, look through the given declarations and determine which ones are incorrect?\n",
        "\n",
        "a. `Var1 = 7`\n",
        "\n",
        "b. `VAR5 = 8`\n",
        "\n",
        "c. `2var = 92`\n",
        "\n",
        "d. `first_last_name = \"james gooding\"`\n",
        "\n",
        "e. `Hello! = 0.283`\n",
        "\n",
        "f. `variable24 = \"my favorite food is\"`\n",
        "\n",
        "g. `str = \"string\"`\n",
        "\n"
      ],
      "metadata": {
        "id": "idKFoy5PGMXj"
      }
    },
    {
      "cell_type": "markdown",
      "source": [
        "**Double Click This Cell To Enter Your Answer(s)**"
      ],
      "metadata": {
        "id": "89W-6XfL8bnJ"
      }
    },
    {
      "cell_type": "markdown",
      "source": [
        "---\n",
        "\n",
        "<center>\n",
        "\n",
        "#### **Wait for Your Instructor to Continue**\n",
        "\n",
        "---"
      ],
      "metadata": {
        "id": "DTTEvh3zX_WK"
      }
    },
    {
      "cell_type": "markdown",
      "source": [
        "<a name=\"p4\"></a>\n",
        "\n",
        "---\n",
        "## **Part 4: Additional Practice [OPTIONAL]**\n",
        "---"
      ],
      "metadata": {
        "id": "x27tcYeFr0ps"
      }
    },
    {
      "cell_type": "markdown",
      "source": [
        "<a name=\"p4.1\"></a>\n",
        "\n",
        "---\n",
        "### **Part 4.1: Arithmetic Operators**\n",
        "---"
      ],
      "metadata": {
        "id": "yhhNVj8tszfa"
      }
    },
    {
      "cell_type": "markdown",
      "source": [
        "#### **Problem #4.1.1**\n",
        "\n",
        "Calculate 5 divided by 2."
      ],
      "metadata": {
        "id": "3UHFE0F-r_AY"
      }
    },
    {
      "cell_type": "code",
      "source": [
        "# COMPLETE THIS CODE"
      ],
      "metadata": {
        "id": "0gTl9x12r_AZ"
      },
      "execution_count": null,
      "outputs": []
    },
    {
      "cell_type": "markdown",
      "source": [
        "#### **Problem #4.1.2**\n",
        "\n",
        "Calculate 50 divided by 2."
      ],
      "metadata": {
        "id": "-Op2trMwsNTO"
      }
    },
    {
      "cell_type": "code",
      "source": [
        "# COMPLETE THIS CODE"
      ],
      "metadata": {
        "id": "r8PUMKhbsNTP"
      },
      "execution_count": null,
      "outputs": []
    },
    {
      "cell_type": "markdown",
      "source": [
        "#### **Problem #4.1.3**\n",
        "\n",
        "Calculate 28 multiplied by 1995."
      ],
      "metadata": {
        "id": "bgSOjzrtsVPZ"
      }
    },
    {
      "cell_type": "code",
      "source": [
        "# COMPLETE THIS CODE"
      ],
      "metadata": {
        "id": "wx4fZWNnsVPa"
      },
      "execution_count": null,
      "outputs": []
    },
    {
      "cell_type": "markdown",
      "source": [
        "#### **Problem #4.1.4**\n",
        "\n",
        "Calculate 3 squared."
      ],
      "metadata": {
        "id": "amw5Yd8xsbfR"
      }
    },
    {
      "cell_type": "code",
      "source": [
        "# COMPLETE THIS CODE"
      ],
      "metadata": {
        "id": "O1kUtqUisbfT"
      },
      "execution_count": null,
      "outputs": []
    },
    {
      "cell_type": "markdown",
      "source": [
        "#### **Problem #4.1.5**\n",
        "\n",
        "Calculate 2 to the 10th power minus 5."
      ],
      "metadata": {
        "id": "ixi0A-EKslsg"
      }
    },
    {
      "cell_type": "code",
      "source": [
        "# COMPLETE THIS CODE"
      ],
      "metadata": {
        "id": "JgEGihlislsg"
      },
      "execution_count": null,
      "outputs": []
    },
    {
      "cell_type": "markdown",
      "source": [
        "<a name=\"p4.2\"></a>\n",
        "\n",
        "---\n",
        "### **Part 4.2: Variables**\n",
        "---"
      ],
      "metadata": {
        "id": "4MoSMLBItCdo"
      }
    },
    {
      "cell_type": "markdown",
      "source": [
        "#### **Problem #4.2.1**\n",
        "\n",
        "Create a variable named `favorite_animal` and assign a string to it of your favorite animal. Output its value."
      ],
      "metadata": {
        "id": "DNQ0uGTgtCd0"
      }
    },
    {
      "cell_type": "code",
      "source": [
        "# COMPLETE THIS CODE"
      ],
      "metadata": {
        "id": "RGutT2VXtCd0"
      },
      "execution_count": null,
      "outputs": []
    },
    {
      "cell_type": "markdown",
      "source": [
        "#### **Problem #4.2.2**\n",
        "\n",
        "Create a variable called `problem_number` and assign the float `4.22` to it. Output its value."
      ],
      "metadata": {
        "id": "qEeBTTwhtCd2"
      }
    },
    {
      "cell_type": "code",
      "source": [
        "# COMPLETE THIS CODE"
      ],
      "metadata": {
        "id": "GzcVlThPtCd2"
      },
      "execution_count": null,
      "outputs": []
    },
    {
      "cell_type": "markdown",
      "source": [
        "#### **Problem #4.2.3**\n",
        "\n",
        "Create a variable called `next_problem_number` and assign the result of adding `problem_number` and 0.01. Output its value."
      ],
      "metadata": {
        "id": "foTpdnTStCd1"
      }
    },
    {
      "cell_type": "code",
      "source": [
        "# COMPLETE THIS CODE"
      ],
      "metadata": {
        "id": "r3pRvWxwtCd2"
      },
      "execution_count": null,
      "outputs": []
    },
    {
      "cell_type": "markdown",
      "source": [
        "#### **Problem #4.2.4**\n",
        "\n",
        "Create a variable named `my_age` and assign an int with your age to it. Output its value."
      ],
      "metadata": {
        "id": "j9LT67KptCd1"
      }
    },
    {
      "cell_type": "code",
      "source": [
        "# COMPLETE THIS CODE"
      ],
      "metadata": {
        "id": "9M1RGVVZtCd1"
      },
      "execution_count": null,
      "outputs": []
    },
    {
      "cell_type": "markdown",
      "source": [
        "#### **Problem #4.2.5**\n",
        "\n",
        "Create a variable named `my_age_in_months` that is equal to `my_age` multiplied by 12. Output its value."
      ],
      "metadata": {
        "id": "219fzMgitCd1"
      }
    },
    {
      "cell_type": "code",
      "source": [
        "# COMPLETE THIS CODE"
      ],
      "metadata": {
        "id": "Tf5uJpXftCd1"
      },
      "execution_count": null,
      "outputs": []
    },
    {
      "cell_type": "markdown",
      "source": [
        "# End of notebook\n",
        "---\n",
        "© 2023 The Coding School, All rights reserved"
      ],
      "metadata": {
        "id": "LMrbwMSsoWtN"
      }
    }
  ]
}